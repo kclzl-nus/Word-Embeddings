{
 "cells": [
  {
   "cell_type": "code",
   "execution_count": 1,
   "metadata": {},
   "outputs": [],
   "source": [
    "import numpy as np\n",
    "import pandas as pd\n",
    "import tqdm\n",
    "import jax\n",
    "import jax.numpy as jnp\n",
    "import string\n",
    "import tensorflow as tf\n",
    "import time\n",
    "from tqdm import tqdm"
   ]
  },
  {
   "cell_type": "code",
   "execution_count": 2,
   "metadata": {},
   "outputs": [
    {
     "name": "stdout",
     "output_type": "stream",
     "text": [
      "Data Shape: (13368, 1)\n"
     ]
    },
    {
     "data": {
      "text/html": [
       "<div>\n",
       "<style scoped>\n",
       "    .dataframe tbody tr th:only-of-type {\n",
       "        vertical-align: middle;\n",
       "    }\n",
       "\n",
       "    .dataframe tbody tr th {\n",
       "        vertical-align: top;\n",
       "    }\n",
       "\n",
       "    .dataframe thead th {\n",
       "        text-align: right;\n",
       "    }\n",
       "</style>\n",
       "<table border=\"1\" class=\"dataframe\">\n",
       "  <thead>\n",
       "    <tr style=\"text-align: right;\">\n",
       "      <th></th>\n",
       "      <th>text</th>\n",
       "    </tr>\n",
       "  </thead>\n",
       "  <tbody>\n",
       "    <tr>\n",
       "      <th>0</th>\n",
       "      <td>Sally Forrest, an actress-dancer who graced th...</td>\n",
       "    </tr>\n",
       "    <tr>\n",
       "      <th>1</th>\n",
       "      <td>A middle-school teacher in China has inked hun...</td>\n",
       "    </tr>\n",
       "    <tr>\n",
       "      <th>2</th>\n",
       "      <td>A man convicted of killing the father and sist...</td>\n",
       "    </tr>\n",
       "    <tr>\n",
       "      <th>3</th>\n",
       "      <td>Avid rugby fan Prince Harry could barely watch...</td>\n",
       "    </tr>\n",
       "    <tr>\n",
       "      <th>4</th>\n",
       "      <td>A Triple M Radio producer has been inundated w...</td>\n",
       "    </tr>\n",
       "  </tbody>\n",
       "</table>\n",
       "</div>"
      ],
      "text/plain": [
       "                                                text\n",
       "0  Sally Forrest, an actress-dancer who graced th...\n",
       "1  A middle-school teacher in China has inked hun...\n",
       "2  A man convicted of killing the father and sist...\n",
       "3  Avid rugby fan Prince Harry could barely watch...\n",
       "4  A Triple M Radio producer has been inundated w..."
      ]
     },
     "execution_count": 2,
     "metadata": {},
     "output_type": "execute_result"
    }
   ],
   "source": [
    "data = pd.read_csv('./data/raw_data.csv', header=0, names=['text'], usecols=[1])\n",
    "print(f'Data Shape: {data.shape}')\n",
    "data.head()"
   ]
  },
  {
   "cell_type": "code",
   "execution_count": 3,
   "metadata": {},
   "outputs": [],
   "source": [
    "# remove punctuation\n",
    "punctuations = string.punctuation\n",
    "def remove_punctuation(txt):\n",
    "    for char in punctuations:\n",
    "        if char in txt:\n",
    "            txt = txt.replace(char, \"\")\n",
    "    return txt\n",
    "\n",
    "# change to lower caps\n",
    "data['text'] = data['text'].str.lower()\n",
    "\n",
    "# remove punctuations\n",
    "data['text'] = data['text'].apply(remove_punctuation)"
   ]
  },
  {
   "cell_type": "code",
   "execution_count": 4,
   "metadata": {},
   "outputs": [
    {
     "name": "stdout",
     "output_type": "stream",
     "text": [
      "Number of rows of data: 200\n"
     ]
    },
    {
     "data": {
      "text/plain": [
       "0    [cnnbritish, military, advisers, are, training...\n",
       "1    [niall, boylan, and, his, biological, sister, ...\n",
       "2    [fox, news, has, hired, the, former, navy, sea...\n",
       "3    [a, couple, sent, their, children, to, a, £320...\n",
       "4    [a, northeast, ohio, woman, has, been, charged...\n",
       "Name: text, dtype: object"
      ]
     },
     "execution_count": 4,
     "metadata": {},
     "output_type": "execute_result"
    }
   ],
   "source": [
    "# split each row into list of words\n",
    "data_lst = data['text'].apply(lambda txt: txt.split(\" \"))\n",
    "\n",
    "# select number of rows to be used as training data\n",
    "nrows = 200\n",
    "random_indices = np.random.randint(low=0, high=len(data_lst), size=nrows)\n",
    "data_lst = data_lst[random_indices].reset_index(drop=True)\n",
    "\n",
    "print(f'Number of rows of data: {len(data_lst)}')\n",
    "data_lst[:5]"
   ]
  },
  {
   "cell_type": "code",
   "execution_count": 5,
   "metadata": {},
   "outputs": [
    {
     "name": "stdout",
     "output_type": "stream",
     "text": [
      "Vocab size: 15477\n"
     ]
    }
   ],
   "source": [
    "# vocab dict\n",
    "vocab, index = {}, 1\n",
    "vocab['<pad>'] = 0\n",
    "for line in data_lst:\n",
    "    for word in line:\n",
    "        if word not in vocab:\n",
    "            vocab[word] = index\n",
    "            index += 1\n",
    "\n",
    "# inverse_vocab dict\n",
    "inverse_vocab = {}\n",
    "for word, index in vocab.items():\n",
    "    inverse_vocab[index] = word\n",
    "\n",
    "print(f'Vocab size: {len(vocab)}')"
   ]
  },
  {
   "cell_type": "code",
   "execution_count": 6,
   "metadata": {},
   "outputs": [],
   "source": [
    "# sequences\n",
    "sequences = []\n",
    "for line in data_lst:\n",
    "    vectorized_line = [vocab[word] for word in line]\n",
    "    sequences.append(vectorized_line)"
   ]
  },
  {
   "cell_type": "code",
   "execution_count": null,
   "metadata": {},
   "outputs": [],
   "source": [
    "# create function that generates the skip gram samples\n",
    "# def generate_training_data(sequences, window_size):\n",
    "#     skip_grams = []\n",
    "#     # for each sentence\n",
    "#     for sequence in sequences:\n",
    "#         for center_word_pos in range(len(sequence)):\n",
    "#             # for each window position\n",
    "#             for w in range(-window_size, window_size + 1):\n",
    "#                 context_word_pos = center_word_pos + w\n",
    "#                 # make soure not jump out sentence\n",
    "#                 if context_word_pos < 0 or context_word_pos >= len(sequence) or center_word_pos == context_word_pos:\n",
    "#                     continue\n",
    "#                 context_word_idx = sequence[context_word_pos]\n",
    "#                 skip_grams.append((sequence[center_word_pos], context_word_idx))\n",
    "\n",
    "#     skip_grams = np.array(skip_grams) # it will be useful to have this as numpy array\n",
    "#     return skip_grams"
   ]
  },
  {
   "cell_type": "code",
   "execution_count": null,
   "metadata": {},
   "outputs": [],
   "source": [
    "# skip_grams = generate_training_data(sequences, 5)\n",
    "# for target, context in skip_grams[:5]:\n",
    "#     print(f'({target}, {context}): ({inverse_vocab[target]}, {inverse_vocab[context]})')"
   ]
  },
  {
   "cell_type": "code",
   "execution_count": 23,
   "metadata": {},
   "outputs": [],
   "source": [
    "# function to generate samples\n",
    "def generate_training_data(sequences, window_size, num_ns, vocab_size, seed):\n",
    "  # Elements of each training example are appended to these lists.\n",
    "  targets, contexts, labels = [], [], []\n",
    "\n",
    "  # Build the sampling table for `vocab_size` tokens.\n",
    "  sampling_table = tf.keras.preprocessing.sequence.make_sampling_table(vocab_size)\n",
    "\n",
    "  # Iterate over all sequences (sentences) in the dataset.\n",
    "  for sequence in tqdm(sequences):\n",
    "\n",
    "    # Generate positive skip-gram pairs for a sequence (sentence).\n",
    "    positive_skip_grams, _ = tf.keras.preprocessing.sequence.skipgrams(\n",
    "          sequence,\n",
    "          vocabulary_size=vocab_size,\n",
    "          sampling_table=sampling_table,\n",
    "          window_size=window_size,\n",
    "          negative_samples=0,\n",
    "          shuffle=True)\n",
    "\n",
    "    # Iterate over each positive skip-gram pair to produce training examples\n",
    "    # with a positive context word and negative samples.\n",
    "    for target_word, context_word in positive_skip_grams:\n",
    "      context_class = tf.reshape(tf.constant([context_word], dtype=\"int64\"), (1,1))\n",
    "      negative_sampling_candidates, _, _ = tf.random.log_uniform_candidate_sampler(\n",
    "          true_classes=context_class,\n",
    "          num_true=1,\n",
    "          num_sampled=num_ns,\n",
    "          unique=True,\n",
    "          range_max=vocab_size,\n",
    "          seed=seed,\n",
    "          name=\"negative_sampling\")\n",
    "\n",
    "      # Build context and label vectors (for one target word)\n",
    "      context = tf.concat([tf.squeeze(context_class,1), negative_sampling_candidates], 0)\n",
    "      label = tf.constant([1] + [0]*num_ns, dtype=\"int64\")\n",
    "\n",
    "      # Append each element from the training example to global lists.\n",
    "      targets.append(target_word)\n",
    "      contexts.append(context)\n",
    "      labels.append(label)\n",
    "\n",
    "  return targets, contexts, labels"
   ]
  },
  {
   "cell_type": "code",
   "execution_count": 84,
   "metadata": {},
   "outputs": [
    {
     "name": "stderr",
     "output_type": "stream",
     "text": [
      "100%|██████████| 200/200 [03:40<00:00,  1.10s/it]\n"
     ]
    },
    {
     "name": "stdout",
     "output_type": "stream",
     "text": [
      "targets shape: (448421,)\n",
      "contexts shape: (448421, 5)\n",
      "labels shape: (448421, 5)\n"
     ]
    }
   ],
   "source": [
    "# generate training data\n",
    "window_size = 5\n",
    "num_ns = 4\n",
    "vocab_size = len(vocab)\n",
    "seed = 4212\n",
    "\n",
    "targets, contexts, labels = generate_training_data(sequences=sequences,\n",
    "                                                 window_size=window_size,\n",
    "                                                 num_ns=num_ns,\n",
    "                                                 vocab_size=vocab_size,\n",
    "                                                 seed=seed)\n",
    "\n",
    "targets = np.array(targets)\n",
    "contexts = np.array(contexts)\n",
    "labels = np.array(labels)\n",
    "\n",
    "print(f'targets shape: {targets.shape}')\n",
    "print(f'contexts shape: {contexts.shape}')\n",
    "print(f'labels shape: {labels.shape}')"
   ]
  },
  {
   "cell_type": "code",
   "execution_count": 128,
   "metadata": {},
   "outputs": [
    {
     "name": "stdout",
     "output_type": "stream",
     "text": [
      "target_index    : 1320\n",
      "target_word     : instead\n",
      "context_indices : [ 143    7  462 7081 2785]\n",
      "context_words   : ['a', 'troops', 'hear', 'twoyearold', 'moschino']\n",
      "label           : [1 0 0 0 0]\n",
      "target  : 1320\n",
      "context : [ 143    7  462 7081 2785]\n",
      "label   : [1 0 0 0 0]\n"
     ]
    }
   ],
   "source": [
    "print(f\"target_index    : {targets[0]}\")\n",
    "print(f\"target_word     : {inverse_vocab[targets[0]]}\")\n",
    "print(f\"context_indices : {contexts[0]}\")\n",
    "print(f\"context_words   : {[inverse_vocab[c] for c in contexts[0]]}\")\n",
    "print(f\"label           : {labels[0]}\")\n",
    "\n",
    "print(\"target  :\", targets[0])\n",
    "print(\"context :\", contexts[0])\n",
    "print(\"label   :\", labels[0])"
   ]
  },
  {
   "cell_type": "code",
   "execution_count": 126,
   "metadata": {},
   "outputs": [],
   "source": [
    "# sigmoid function\n",
    "def sigmoid(x):\n",
    "    \"\"\"Inputs a real number, outputs a real number\"\"\"\n",
    "    return 1 / (1 + jnp.exp(-x))\n",
    "\n",
    "# \n",
    "def local_loss(params,\n",
    "               target,\n",
    "               context):\n",
    "    \"\"\"\n",
    "    Input (example)\n",
    "    target = (188,)\n",
    "    context = (93, 40, 1648, 1659, 1109)\n",
    "    params = [V, U]\n",
    "        V: matrix of dim (n x |v|)\n",
    "        U: matrix of dim (|v| x n)\n",
    "            n = embedding dimension, |v| = vocab size\n",
    "\n",
    "    Outputs the local_loss -> real number\n",
    "    \"\"\"\n",
    "    target = target.astype(int)\n",
    "    context = context.astype(int)\n",
    "    V_embedding =params[0][0]\n",
    "    U_embedding = params[0][1]\n",
    "    \n",
    "    v_t = V_embedding.T[target]; print(f'v_t shape: {v_t.shape}') # shape (300,)\n",
    "    u_pos = U_embedding[context[0]]; print(f'u_pos shape: {u_pos.shape}')  # shape(300,)\n",
    "    u_neg = U_embedding[context[1:]]; print(f'u_neg shape: {u_neg.shape}')  # shape(4, 300)\n",
    "\n",
    "    return -jnp.log(sigmoid(jnp.dot(u_pos.T, v_t))) - jnp.sum(jnp.log(sigmoid(-jnp.dot(u_neg, v_t))))\n"
   ]
  },
  {
   "cell_type": "code",
   "execution_count": 129,
   "metadata": {},
   "outputs": [
    {
     "name": "stdout",
     "output_type": "stream",
     "text": [
      "v_t shape: ()\n",
      "u_pos shape: ()\n",
      "u_neg shape: (4,)\n"
     ]
    },
    {
     "data": {
      "text/plain": [
       "Array(3.4660106, dtype=float32)"
      ]
     },
     "execution_count": 129,
     "metadata": {},
     "output_type": "execute_result"
    }
   ],
   "source": [
    "n = 100\n",
    "v = len(vocab)\n",
    "V_test = np.random.normal(0, 1, size=(n, v)) / np.sqrt(v)\n",
    "U_test = np.random.normal(0, 1, size=(v, n)) / np.sqrt(v)\n",
    "target_test = targets[0]\n",
    "context_test = contexts[0]\n",
    "\n",
    "local_loss([V_test, U_test], target_test, context_test)\n"
   ]
  },
  {
   "cell_type": "code",
   "execution_count": 130,
   "metadata": {},
   "outputs": [],
   "source": [
    "# vmap the local loss across a batch of data points\n",
    "loss_all = jax.vmap(local_loss, in_axes=(None, 0, 0))\n",
    "\n",
    "@jax.jit\n",
    "def loss(params, targets, contexts):\n",
    "    \"\"\"return average of all the local losses\"\"\"\n",
    "    all_losses = loss_all(params, targets, contexts)\n",
    "    return jnp.mean(all_losses)\n",
    "\n",
    "# compute gradient\n",
    "loss_value_and_grad = jax.jit( jax.value_and_grad(loss) )"
   ]
  },
  {
   "cell_type": "code",
   "execution_count": 41,
   "metadata": {},
   "outputs": [],
   "source": [
    "# function that generates One-Hot-Encoding vector\n",
    "def get_input_OHE(i):\n",
    "    e_i = np.zeros(v)\n",
    "    e_i[i] = 1.\n",
    "    return e_i\n",
    "\n",
    "# function that takes in the output layer\n",
    "# spits out a vector of same dimension as output layer\n",
    "# sum of probabilites to 1\n",
    "def softmax(z_c):\n",
    "    return tf.nn.softmax(z_c).numpy()"
   ]
  },
  {
   "cell_type": "code",
   "execution_count": 135,
   "metadata": {},
   "outputs": [
    {
     "name": "stdout",
     "output_type": "stream",
     "text": [
      "V shape: (100, 15477)\n",
      "U shape: (15477, 100)\n",
      "targets_data shape: (448421,)\n",
      "contexts_data shape: (448421, 5)\n",
      "labels_data shape: (448421, 5)\n"
     ]
    }
   ],
   "source": [
    "# set up\n",
    "n = 100\n",
    "v = len(vocab)\n",
    "V = np.random.normal(0, 1, size=(n, v)) / np.sqrt(v)\n",
    "U = np.random.normal(0, 1, size=(v, n)) / np.sqrt(v)\n",
    "params = [(V, U)]\n",
    "targets_data = targets.astype(float)\n",
    "contexts_data = contexts.astype(float)\n",
    "labels_data = labels.astype(float)\n",
    "\n",
    "print(f'V shape: {V.shape}')\n",
    "print(f'U shape: {U.shape}')\n",
    "print(f'targets_data shape: {targets_data.shape}')\n",
    "print(f'contexts_data shape: {contexts_data.shape}')\n",
    "print(f'labels_data shape: {labels_data.shape}')"
   ]
  },
  {
   "cell_type": "code",
   "execution_count": 122,
   "metadata": {},
   "outputs": [
    {
     "name": "stdout",
     "output_type": "stream",
     "text": [
      "v_t shape: (100,)\n",
      "u_pos shape: (100,)\n",
      "u_neg shape: (4, 100)\n",
      "loss: 3.4657623767852783\n"
     ]
    },
    {
     "data": {
      "text/plain": [
       "(15477, 100)"
      ]
     },
     "execution_count": 122,
     "metadata": {},
     "output_type": "execute_result"
    }
   ],
   "source": [
    "# test if it works\n",
    "params = [V, U]\n",
    "print(f'loss: {loss(params, targets[:10], contexts[:10])}')\n",
    "v, g = loss_value_and_grad(params, targets[:10], contexts[:10])\n",
    "g[1].shape"
   ]
  },
  {
   "cell_type": "code",
   "execution_count": 96,
   "metadata": {},
   "outputs": [
    {
     "data": {
      "text/plain": [
       "448421"
      ]
     },
     "execution_count": 96,
     "metadata": {},
     "output_type": "execute_result"
    }
   ],
   "source": [
    "len(targets_data)"
   ]
  },
  {
   "cell_type": "code",
   "execution_count": 133,
   "metadata": {},
   "outputs": [
    {
     "name": "stdout",
     "output_type": "stream",
     "text": [
      "Epoch 1/10, loss = 3.4657375812530518\n",
      "Epoch 2/10, loss = 3.4657375812530518\n",
      "Epoch 3/10, loss = 3.4657375812530518\n",
      "Epoch 4/10, loss = 3.4657373428344727\n",
      "Epoch 5/10, loss = 3.4657371044158936\n",
      "Epoch 6/10, loss = 3.4657371044158936\n",
      "Epoch 7/10, loss = 3.4657371044158936\n",
      "Epoch 8/10, loss = 3.4657371044158936\n",
      "Epoch 9/10, loss = 3.4657366275787354\n",
      "Epoch 10/10, loss = 3.4657366275787354\n"
     ]
    }
   ],
   "source": [
    "# train using stochastic gradient descent\n",
    "\n",
    "# number of training examples\n",
    "N = len(targets_data)\n",
    "\n",
    "# learning rate\n",
    "lr = 0.0001\n",
    "\n",
    "# number of epochs\n",
    "n_epochs = 10\n",
    "\n",
    "# batch size\n",
    "batch_size = 100\n",
    "\n",
    "# number of batches per epoch\n",
    "n_batches = N // batch_size\n",
    "\n",
    "# keep track of losses\n",
    "losses = []\n",
    "\n",
    "# training the network\n",
    "for epoch in range(n_epochs):\n",
    "    # shuffle data\n",
    "    perm = np.random.permutation(N)\n",
    "    targets = targets[perm]\n",
    "    contexts = contexts[perm]\n",
    "    labels = labels[perm]\n",
    "\n",
    "    # epoch losses\n",
    "    epoch_losses = []\n",
    "    for batch in range(n_batches):\n",
    "        targets_batch = targets_data[batch*batch_size: (batch+1)*batch_size]\n",
    "        contexts_batch = contexts_data[batch*batch_size: (batch+1)*batch_size]\n",
    "        labels_batch = labels_data[batch*batch_size: (batch+1)*batch_size]\n",
    "\n",
    "        # calculate loss\n",
    "        loss_value, gradient = loss_value_and_grad(params, targets_batch, contexts_batch)\n",
    "        losses.append(loss_value)\n",
    "\n",
    "        # update params\n",
    "        # print(f'params[0] shape: {params[0].shape}')\n",
    "        # print(f'params[1] shape: {params[1].shape}')\n",
    "        # print(f'gradient[0] shape: {gradient[0].shape}')\n",
    "        # print(f'gradient[1] shape: {gradient[1].shape}')\n",
    "\n",
    "        params = [(V - lr*dV, U - lr*dU) for (V, U), (dV, dU) in zip(params, gradient)]\n",
    "\n",
    "        # add epoch losses\n",
    "        epoch_losses.append(loss_value)\n",
    "\n",
    "    if epoch % 1 == 0:\n",
    "        print(f\"Epoch {epoch+1}/{n_epochs}, loss = {np.mean(epoch_losses)}\")\n",
    "        \n",
    "\n",
    "\n",
    "\n",
    "\n"
   ]
  },
  {
   "cell_type": "code",
   "execution_count": 145,
   "metadata": {},
   "outputs": [
    {
     "name": "stdout",
     "output_type": "stream",
     "text": [
      "v_t shape: (100,)\n",
      "u_pos shape: (100,)\n",
      "u_neg shape: (4, 100)\n",
      "iteration:0 \t loss=3.4658\n",
      "iteration:50 \t loss=3.4657\n",
      "iteration:100 \t loss=3.4657\n",
      "iteration:150 \t loss=3.4658\n",
      "iteration:200 \t loss=3.4658\n",
      "iteration:250 \t loss=3.4657\n",
      "iteration:300 \t loss=3.4658\n",
      "iteration:350 \t loss=3.4657\n",
      "iteration:400 \t loss=3.4657\n",
      "iteration:450 \t loss=3.4658\n",
      "iteration:500 \t loss=3.4658\n",
      "iteration:550 \t loss=3.4657\n",
      "iteration:600 \t loss=3.4657\n",
      "iteration:650 \t loss=3.4657\n",
      "iteration:700 \t loss=3.4657\n",
      "iteration:750 \t loss=3.4658\n",
      "iteration:800 \t loss=3.4657\n",
      "iteration:850 \t loss=3.4657\n",
      "iteration:900 \t loss=3.4657\n",
      "iteration:950 \t loss=3.4658\n",
      "iteration:1000 \t loss=3.4657\n",
      "iteration:1050 \t loss=3.4656\n",
      "iteration:1100 \t loss=3.4657\n",
      "iteration:1150 \t loss=3.4657\n",
      "iteration:1200 \t loss=3.4657\n",
      "iteration:1250 \t loss=3.4658\n",
      "iteration:1300 \t loss=3.4658\n",
      "iteration:1350 \t loss=3.4657\n",
      "iteration:1400 \t loss=3.4657\n",
      "iteration:1450 \t loss=3.4658\n",
      "iteration:1500 \t loss=3.4657\n",
      "iteration:1550 \t loss=3.4657\n",
      "iteration:1600 \t loss=3.4658\n",
      "iteration:1650 \t loss=3.4657\n",
      "iteration:1700 \t loss=3.4657\n",
      "iteration:1750 \t loss=3.4657\n",
      "iteration:1800 \t loss=3.4657\n",
      "iteration:1850 \t loss=3.4658\n",
      "iteration:1900 \t loss=3.4657\n",
      "iteration:1950 \t loss=3.4658\n"
     ]
    }
   ],
   "source": [
    "# train using stochastic gradient descent\n",
    "\n",
    "# number of training examples\n",
    "N = len(targets_data)\n",
    "\n",
    "# learning rate\n",
    "lr = 0.000000001\n",
    "\n",
    "# number iterations\n",
    "niter = 2000\n",
    "\n",
    "# batch size\n",
    "batch_size = 200\n",
    "\n",
    "losses = []\n",
    "\n",
    "# training the network\n",
    "for it in range(niter):\n",
    "    # select random batch of images\n",
    "    indices = np.random.randint(low=0, high=N-1, size=batch_size)\n",
    "\n",
    "    # calculate  and save loss\n",
    "    loss_value, gradient = loss_value_and_grad(params, targets_data[indices], contexts_data[indices])\n",
    "    losses.append(loss_value)\n",
    "\n",
    "    # update params\n",
    "    params = [(V - lr*dV, U - lr*dU) for (V, U), (dV, dU) in zip(params, gradient)]\n",
    "\n",
    "    if it % 50 == 0:\n",
    "        print(f\"iteration:{it} \\t loss={loss_value:2.4f}\")"
   ]
  },
  {
   "cell_type": "code",
   "execution_count": 139,
   "metadata": {},
   "outputs": [
    {
     "data": {
      "text/plain": [
       "array([10073.,  3750.,   459.,    95., 14969.])"
      ]
     },
     "execution_count": 139,
     "metadata": {},
     "output_type": "execute_result"
    }
   ],
   "source": [
    "targets_data[:5]"
   ]
  },
  {
   "cell_type": "code",
   "execution_count": null,
   "metadata": {},
   "outputs": [],
   "source": []
  }
 ],
 "metadata": {
  "kernelspec": {
   "display_name": ".venv",
   "language": "python",
   "name": "python3"
  },
  "language_info": {
   "codemirror_mode": {
    "name": "ipython",
    "version": 3
   },
   "file_extension": ".py",
   "mimetype": "text/x-python",
   "name": "python",
   "nbconvert_exporter": "python",
   "pygments_lexer": "ipython3",
   "version": "3.8.5"
  }
 },
 "nbformat": 4,
 "nbformat_minor": 2
}
