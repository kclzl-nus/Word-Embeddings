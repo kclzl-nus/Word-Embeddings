{
 "cells": [
  {
   "cell_type": "code",
   "execution_count": 122,
   "metadata": {},
   "outputs": [],
   "source": [
    "import numpy as np\n",
    "import pandas as pd\n",
    "import tqdm\n",
    "import jax\n",
    "import jax.numpy as jnp\n",
    "import string\n",
    "import tensorflow as tf\n",
    "import time\n",
    "from tqdm import tqdm\n",
    "import nltk\n",
    "from nltk.corpus import stopwords\n",
    "\n",
    "# import libraries relevant to plotting (t-SNE)\n",
    "import matplotlib.pyplot as plt\n",
    "from sklearn.manifold import TSNE"
   ]
  },
  {
   "cell_type": "markdown",
   "metadata": {},
   "source": [
    "## Data Preprocessing"
   ]
  },
  {
   "cell_type": "code",
   "execution_count": 44,
   "metadata": {},
   "outputs": [
    {
     "name": "stdout",
     "output_type": "stream",
     "text": [
      "Data Shape: (13368, 1)\n"
     ]
    },
    {
     "data": {
      "text/html": [
       "<div>\n",
       "<style scoped>\n",
       "    .dataframe tbody tr th:only-of-type {\n",
       "        vertical-align: middle;\n",
       "    }\n",
       "\n",
       "    .dataframe tbody tr th {\n",
       "        vertical-align: top;\n",
       "    }\n",
       "\n",
       "    .dataframe thead th {\n",
       "        text-align: right;\n",
       "    }\n",
       "</style>\n",
       "<table border=\"1\" class=\"dataframe\">\n",
       "  <thead>\n",
       "    <tr style=\"text-align: right;\">\n",
       "      <th></th>\n",
       "      <th>text</th>\n",
       "    </tr>\n",
       "  </thead>\n",
       "  <tbody>\n",
       "    <tr>\n",
       "      <th>0</th>\n",
       "      <td>Sally Forrest, an actress-dancer who graced th...</td>\n",
       "    </tr>\n",
       "    <tr>\n",
       "      <th>1</th>\n",
       "      <td>A middle-school teacher in China has inked hun...</td>\n",
       "    </tr>\n",
       "    <tr>\n",
       "      <th>2</th>\n",
       "      <td>A man convicted of killing the father and sist...</td>\n",
       "    </tr>\n",
       "    <tr>\n",
       "      <th>3</th>\n",
       "      <td>Avid rugby fan Prince Harry could barely watch...</td>\n",
       "    </tr>\n",
       "    <tr>\n",
       "      <th>4</th>\n",
       "      <td>A Triple M Radio producer has been inundated w...</td>\n",
       "    </tr>\n",
       "  </tbody>\n",
       "</table>\n",
       "</div>"
      ],
      "text/plain": [
       "                                                text\n",
       "0  Sally Forrest, an actress-dancer who graced th...\n",
       "1  A middle-school teacher in China has inked hun...\n",
       "2  A man convicted of killing the father and sist...\n",
       "3  Avid rugby fan Prince Harry could barely watch...\n",
       "4  A Triple M Radio producer has been inundated w..."
      ]
     },
     "execution_count": 44,
     "metadata": {},
     "output_type": "execute_result"
    }
   ],
   "source": [
    "data = pd.read_csv('./data/raw data/raw_data.csv', header=0, names=['text'], usecols=[1])\n",
    "print(f'Data Shape: {data.shape}')\n",
    "data.head()"
   ]
  },
  {
   "cell_type": "code",
   "execution_count": 45,
   "metadata": {},
   "outputs": [],
   "source": [
    "# remove punctuation\n",
    "punctuations = string.punctuation\n",
    "def remove_punctuation(txt):\n",
    "    for char in punctuations:\n",
    "        if char in txt:\n",
    "            txt = txt.replace(char, \"\")\n",
    "    return txt\n",
    "\n",
    "# change to lower caps\n",
    "data['text'] = data['text'].str.lower()\n",
    "\n",
    "# remove punctuations\n",
    "data['text'] = data['text'].apply(remove_punctuation)"
   ]
  },
  {
   "cell_type": "code",
   "execution_count": 46,
   "metadata": {},
   "outputs": [],
   "source": [
    "# remove stopwords\n",
    "# read stopwords from data/raw data/stopwords.txt\n",
    "stop_words = []\n",
    "with open('./data/raw data/stopwords.txt', 'r') as f:\n",
    "    for line in f:\n",
    "        stop_words.append(line.strip())\n",
    "\n",
    "def remove_stopwords(txt):\n",
    "    txt = [word for word in txt.split() if word not in stop_words]\n",
    "    return ' '.join(txt)\n",
    "\n",
    "data['text'] = data['text'].apply(remove_stopwords)"
   ]
  },
  {
   "cell_type": "code",
   "execution_count": 47,
   "metadata": {},
   "outputs": [
    {
     "name": "stdout",
     "output_type": "stream",
     "text": [
      "Number of rows of data: 200\n"
     ]
    },
    {
     "data": {
      "text/plain": [
       "0    [shocking, images, emerged, risks, injuries, s...\n",
       "1    [wayne, rooney, switched, attention, boxing, g...\n",
       "2    [star, wars, fans, flocked, tunisian, town, lu...\n",
       "3    [video, emerged, claims, oscar, pistorius, pla...\n",
       "4    [florida, teacher, claims, fired, reported, pr...\n",
       "Name: text, dtype: object"
      ]
     },
     "execution_count": 47,
     "metadata": {},
     "output_type": "execute_result"
    }
   ],
   "source": [
    "# split each row into list of words\n",
    "data_lst = data['text'].apply(lambda txt: txt.split(\" \"))\n",
    "\n",
    "# select number of rows to be used as training data\n",
    "nrows = 200\n",
    "random_indices = np.random.randint(low=0, high=len(data_lst), size=nrows)\n",
    "data_lst = data_lst[random_indices].reset_index(drop=True)\n",
    "\n",
    "print(f'Number of rows of data: {len(data_lst)}')\n",
    "data_lst[:5]"
   ]
  },
  {
   "cell_type": "code",
   "execution_count": 48,
   "metadata": {},
   "outputs": [
    {
     "name": "stdout",
     "output_type": "stream",
     "text": [
      "Vocab size: 15156\n"
     ]
    }
   ],
   "source": [
    "# vocab dict\n",
    "vocab, index = {}, 1\n",
    "vocab['<pad>'] = 0\n",
    "for line in data_lst:\n",
    "    for word in line:\n",
    "        if word not in vocab:\n",
    "            vocab[word] = index\n",
    "            index += 1\n",
    "\n",
    "# inverse_vocab dict\n",
    "inverse_vocab = {}\n",
    "for word, index in vocab.items():\n",
    "    inverse_vocab[index] = word\n",
    "\n",
    "print(f'Vocab size: {len(vocab)}')"
   ]
  },
  {
   "cell_type": "code",
   "execution_count": 49,
   "metadata": {},
   "outputs": [],
   "source": [
    "# sequences\n",
    "sequences = []\n",
    "for line in data_lst:\n",
    "    vectorized_line = [vocab[word] for word in line]\n",
    "    sequences.append(vectorized_line)"
   ]
  },
  {
   "cell_type": "markdown",
   "metadata": {},
   "source": [
    "## Split Train and Test Sets"
   ]
  },
  {
   "cell_type": "code",
   "execution_count": 50,
   "metadata": {},
   "outputs": [],
   "source": [
    "# split into train and test sets\n",
    "# choose 20 random sequences\n",
    "ntest = 20\n",
    "test_indices = np.random.randint(low=0, high=len(sequences), size=ntest)\n",
    "test_sequences = [sequences[i] for i in test_indices]\n",
    "train_sequences = [sequences[i] for i in range(len(sequences)) if i not in test_indices]"
   ]
  },
  {
   "cell_type": "code",
   "execution_count": 51,
   "metadata": {},
   "outputs": [],
   "source": [
    "# function to generate samples\n",
    "def generate_training_data(sequences, window_size, num_ns, vocab_size, seed):\n",
    "  # Elements of each training example are appended to these lists.\n",
    "  targets, contexts, labels = [], [], []\n",
    "\n",
    "  # Build the sampling table for `vocab_size` tokens.\n",
    "  sampling_table = tf.keras.preprocessing.sequence.make_sampling_table(vocab_size)\n",
    "\n",
    "  # Iterate over all sequences (sentences) in the dataset.\n",
    "  for sequence in tqdm(sequences):\n",
    "\n",
    "    # Generate positive skip-gram pairs for a sequence (sentence).\n",
    "    positive_skip_grams, _ = tf.keras.preprocessing.sequence.skipgrams(\n",
    "          sequence,\n",
    "          vocabulary_size=vocab_size,\n",
    "          sampling_table=sampling_table,\n",
    "          window_size=window_size,\n",
    "          negative_samples=0,\n",
    "          shuffle=True)\n",
    "\n",
    "    # Iterate over each positive skip-gram pair to produce training examples\n",
    "    # with a positive context word and negative samples.\n",
    "    for target_word, context_word in positive_skip_grams:\n",
    "      context_class = tf.reshape(tf.constant([context_word], dtype=\"int64\"), (1,1))\n",
    "      negative_sampling_candidates, _, _ = tf.random.log_uniform_candidate_sampler(\n",
    "          true_classes=context_class,\n",
    "          num_true=1,\n",
    "          num_sampled=num_ns,\n",
    "          unique=True,\n",
    "          range_max=vocab_size,\n",
    "          seed=seed,\n",
    "          name=\"negative_sampling\")\n",
    "\n",
    "      # Build context and label vectors (for one target word)\n",
    "      context = tf.concat([tf.squeeze(context_class,1), negative_sampling_candidates], 0)\n",
    "      label = tf.constant([1] + [0]*num_ns, dtype=\"int64\")\n",
    "\n",
    "      # Append each element from the training example to global lists.\n",
    "      targets.append(target_word)\n",
    "      contexts.append(context)\n",
    "      labels.append(label)\n",
    "\n",
    "  return targets, contexts, labels"
   ]
  },
  {
   "cell_type": "code",
   "execution_count": 52,
   "metadata": {},
   "outputs": [],
   "source": [
    "# function to generate testing data\n",
    "def generate_testing_data(sequences, vocab_size, window_size):\n",
    "    targets, contexts, labels = [], [], []\n",
    "    for sequence in tqdm(sequences):\n",
    "        positive_skip_grams, _ = tf.keras.preprocessing.sequence.skipgrams(\n",
    "            sequence,\n",
    "            vocabulary_size=vocab_size,\n",
    "            window_size=window_size,\n",
    "            negative_samples=0)\n",
    "    for target_word, context_word in positive_skip_grams:\n",
    "        targets.append(target_word)\n",
    "        contexts.append(context_word)\n",
    "        labels.append(1)\n",
    "    return targets, contexts, labels"
   ]
  },
  {
   "cell_type": "code",
   "execution_count": 53,
   "metadata": {},
   "outputs": [
    {
     "name": "stderr",
     "output_type": "stream",
     "text": [
      "100%|██████████| 181/181 [02:36<00:00,  1.16it/s]\n"
     ]
    },
    {
     "name": "stdout",
     "output_type": "stream",
     "text": [
      "targets shape: (325378,)\n",
      "contexts shape: (325378, 5)\n",
      "labels shape: (325378, 5)\n"
     ]
    }
   ],
   "source": [
    "# generate training data\n",
    "window_size = 5\n",
    "num_ns = 4\n",
    "vocab_size = len(vocab)\n",
    "seed = 4212\n",
    "\n",
    "targets, contexts, labels = generate_training_data(sequences=train_sequences,\n",
    "                                                 window_size=window_size,\n",
    "                                                 num_ns=num_ns,\n",
    "                                                 vocab_size=vocab_size,\n",
    "                                                 seed=seed)\n",
    "\n",
    "targets = np.array(targets)\n",
    "contexts = np.array(contexts)\n",
    "labels = np.array(labels)\n",
    "\n",
    "print(f'targets shape: {targets.shape}')\n",
    "print(f'contexts shape: {contexts.shape}')\n",
    "print(f'labels shape: {labels.shape}')"
   ]
  },
  {
   "cell_type": "code",
   "execution_count": 54,
   "metadata": {},
   "outputs": [
    {
     "name": "stderr",
     "output_type": "stream",
     "text": [
      "100%|██████████| 20/20 [00:00<00:00, 138.07it/s]"
     ]
    },
    {
     "name": "stdout",
     "output_type": "stream",
     "text": [
      "targets_test shape: (4360,)\n",
      "contexts_test shape: (4360,)\n",
      "labels_test shape: (4360,)\n"
     ]
    },
    {
     "name": "stderr",
     "output_type": "stream",
     "text": [
      "\n"
     ]
    }
   ],
   "source": [
    "# generate testing data\n",
    "targets_test, contexts_test, labels_test = generate_testing_data(sequences=test_sequences,\n",
    "                                                                    vocab_size=vocab_size,\n",
    "                                                                    window_size=window_size)\n",
    "\n",
    "targets_test = np.array(targets_test)\n",
    "contexts_test = np.array(contexts_test)\n",
    "labels_test = np.array(labels_test)\n",
    "\n",
    "print(f'targets_test shape: {targets_test.shape}')\n",
    "print(f'contexts_test shape: {contexts_test.shape}')\n",
    "print(f'labels_test shape: {labels_test.shape}')"
   ]
  },
  {
   "cell_type": "markdown",
   "metadata": {},
   "source": [
    "**Sanity Check on quality of training and testing data**"
   ]
  },
  {
   "cell_type": "code",
   "execution_count": 55,
   "metadata": {},
   "outputs": [
    {
     "name": "stdout",
     "output_type": "stream",
     "text": [
      "target_index    : 263\n",
      "target_word     : trevino\n",
      "context_indices : [ 297   39 1609 1620 1084]\n",
      "context_words   : ['impossible', 'manage', 'represented', 'afresh', 'light']\n",
      "label           : [1 0 0 0 0]\n",
      "target  : 263\n",
      "context : [ 297   39 1609 1620 1084]\n",
      "label   : [1 0 0 0 0]\n"
     ]
    }
   ],
   "source": [
    "# training data\n",
    "print(f\"target_index    : {targets[0]}\")\n",
    "print(f\"target_word     : {inverse_vocab[targets[0]]}\")\n",
    "print(f\"context_indices : {contexts[0]}\")\n",
    "print(f\"context_words   : {[inverse_vocab[c] for c in contexts[0]]}\")\n",
    "print(f\"label           : {labels[0]}\")\n",
    "\n",
    "print(\"target  :\", targets[0])\n",
    "print(\"context :\", contexts[0])\n",
    "print(\"label   :\", labels[0])"
   ]
  },
  {
   "cell_type": "code",
   "execution_count": 56,
   "metadata": {},
   "outputs": [
    {
     "name": "stdout",
     "output_type": "stream",
     "text": [
      "target_index    : 10003\n",
      "target_word     : endanger\n",
      "context_index : 62\n",
      "context_word   : medical\n",
      "label           : 1\n",
      "target  : 10003\n",
      "context : 62\n",
      "label   : 1\n"
     ]
    }
   ],
   "source": [
    "# testing data\n",
    "print(f\"target_index    : {targets_test[0]}\")\n",
    "print(f\"target_word     : {inverse_vocab[targets_test[0]]}\")\n",
    "print(f\"context_index : {contexts_test[0]}\")\n",
    "print(f\"context_word   : {inverse_vocab[contexts_test[0]]}\")\n",
    "print(f\"label           : {labels_test[0]}\")\n",
    "\n",
    "print(\"target  :\", targets_test[0])\n",
    "print(\"context :\", contexts_test[0])\n",
    "print(\"label   :\", labels_test[0])"
   ]
  },
  {
   "cell_type": "markdown",
   "metadata": {},
   "source": [
    "## Minimizing Objective Function for SGNS"
   ]
  },
  {
   "cell_type": "markdown",
   "metadata": {},
   "source": [
    "$$\n",
    "\n",
    "\\min_{\\theta} = \\frac{1}{N} \\sum_{i=1}^{N} [log \\sigma(u_{ic}^T)  + \\sum_{k=1}^{K}log \\sigma(-u_{kc}^T v_{iw})]\n",
    "\n",
    "\\\\\n",
    "\\\\\n",
    "\\theta = [U, V]\n",
    "\n",
    "$$"
   ]
  },
  {
   "cell_type": "code",
   "execution_count": 57,
   "metadata": {},
   "outputs": [],
   "source": [
    "# sigmoid function\n",
    "def sigmoid(x):\n",
    "    \"\"\"Inputs a real number, outputs a real number\"\"\"\n",
    "    return 1 / (1 + jnp.exp(-x))\n"
   ]
  },
  {
   "cell_type": "code",
   "execution_count": 58,
   "metadata": {},
   "outputs": [],
   "source": [
    "# define function to get embedding vectors\n",
    "def get_embedding_vectors(target, context, V, U):\n",
    "    \"\"\"\n",
    "    Input (example)\n",
    "    target = (188,)\n",
    "    context = (93, 40, 1648, 1659, 1109)\n",
    "    V: matrix of dim (n x |v|)\n",
    "    U: matrix of dim (|v| x n)\n",
    "        n = embedding dimension, |v| = vocab size\n",
    "\n",
    "    Output\n",
    "    v_t: target word vector, dimension: (n,)\n",
    "    u_c: context word vectors, consists of u_pos and u_neg: dimension: (n, len(context))\n",
    "    \"\"\"\n",
    "    target = target.astype(int)\n",
    "    context = context.astype(int)\n",
    "    v_t = V.T[target]\n",
    "    u_c = U[context]\n",
    "    return v_t, u_c\n",
    "\n",
    "# t = targets[0]\n",
    "# c = contexts[0]\n",
    "# v_test, u_test = get_embedding_vectors(t, c, V, U)\n",
    "# print(f'v_test shape: {v_test.shape}')\n",
    "# print(f'u_test shape: {u_test.shape}')"
   ]
  },
  {
   "cell_type": "code",
   "execution_count": 59,
   "metadata": {},
   "outputs": [],
   "source": [
    "# define local_loss function\n",
    "@jax.jit\n",
    "def local_loss(params):\n",
    "    \"\"\"\n",
    "    Input (example)\n",
    "    params = [v_t, jnp.array([u_pos, u_neg])]\n",
    "        v_t: target word vector, dimension: (n,)\n",
    "        u_c: context word vectors, consists of u_pos and u_neg: dimension: (len(context), n)\n",
    "\n",
    "    Output\n",
    "    local_loss: real number\n",
    "    \"\"\"\n",
    "    v_t = params[0]\n",
    "    u_c = params[1]\n",
    "    return -jnp.log(sigmoid(jnp.dot(u_c[0], v_t))) - jnp.sum(jnp.log(sigmoid(-jnp.dot(u_c[1:], v_t))))\n",
    "\n",
    "# p = [V[:, 0], U[:5, :]]\n",
    "# print(f'local_loss: {local_loss(p)}')\n"
   ]
  },
  {
   "cell_type": "code",
   "execution_count": 60,
   "metadata": {},
   "outputs": [],
   "source": [
    "# define gradient function\n",
    "L_grad = jax.grad(local_loss)\n",
    "\n",
    "# g = L_grad([V[:, 0], U[:5, :]])\n",
    "# print(f\"g[0] shape: {g[0].shape}\")\n",
    "# print(f\"g[1] shape: {g[1].shape}\")"
   ]
  },
  {
   "cell_type": "code",
   "execution_count": 61,
   "metadata": {},
   "outputs": [
    {
     "name": "stdout",
     "output_type": "stream",
     "text": [
      "V shape: (300, 15156)\n",
      "U shape: (15156, 300)\n",
      "targets_data shape: (325378,)\n",
      "contexts_data shape: (325378, 5)\n",
      "labels_data shape: (325378, 5)\n"
     ]
    }
   ],
   "source": [
    "# set up\n",
    "n = 300\n",
    "v = len(vocab)\n",
    "V_init = np.random.normal(0, 1, size=(n, v)) / np.sqrt(v)\n",
    "U_init = np.random.normal(0, 1, size=(v, n)) / np.sqrt(v)\n",
    "\n",
    "targets_data = targets.astype(float)\n",
    "contexts_data = contexts.astype(float)\n",
    "labels_data = labels.astype(float)\n",
    "\n",
    "print(f'V shape: {V_init.shape}')\n",
    "print(f'U shape: {U_init.shape}')\n",
    "print(f'targets_data shape: {targets_data.shape}')\n",
    "print(f'contexts_data shape: {contexts_data.shape}')\n",
    "print(f'labels_data shape: {labels_data.shape}')"
   ]
  },
  {
   "cell_type": "code",
   "execution_count": 73,
   "metadata": {},
   "outputs": [
    {
     "name": "stdout",
     "output_type": "stream",
     "text": [
      "Epoch 1/100 \t loss = 3.464250087738037 \t time = 35.22s\n",
      "Epoch 2/100 \t loss = 3.413017988204956 \t time = 34.76s\n",
      "Epoch 3/100 \t loss = 3.255211591720581 \t time = 36.09s\n",
      "Epoch 4/100 \t loss = 3.080596685409546 \t time = 34.69s\n",
      "Epoch 5/100 \t loss = 2.9262003898620605 \t time = 36.11s\n",
      "Epoch 6/100 \t loss = 2.7958145141601562 \t time = 33.64s\n",
      "Epoch 7/100 \t loss = 2.68611741065979 \t time = 33.93s\n",
      "Epoch 8/100 \t loss = 2.5930628776550293 \t time = 33.94s\n",
      "Epoch 9/100 \t loss = 2.5146961212158203 \t time = 34.67s\n",
      "Epoch 10/100 \t loss = 2.4448094367980957 \t time = 33.23s\n",
      "Epoch 11/100 \t loss = 2.3824145793914795 \t time = 34.15s\n",
      "Epoch 12/100 \t loss = 2.3300957679748535 \t time = 33.93s\n",
      "Epoch 13/100 \t loss = 2.2828497886657715 \t time = 33.43s\n",
      "Epoch 14/100 \t loss = 2.241057872772217 \t time = 33.50s\n",
      "Epoch 15/100 \t loss = 2.2044739723205566 \t time = 33.70s\n",
      "Epoch 16/100 \t loss = 2.170534133911133 \t time = 33.50s\n",
      "Epoch 17/100 \t loss = 2.139336585998535 \t time = 34.82s\n",
      "Epoch 18/100 \t loss = 2.111586332321167 \t time = 34.30s\n",
      "Epoch 19/100 \t loss = 2.0861620903015137 \t time = 33.49s\n",
      "Epoch 20/100 \t loss = 2.06298828125 \t time = 33.69s\n",
      "Epoch 21/100 \t loss = 2.041781187057495 \t time = 39.01s\n",
      "Epoch 22/100 \t loss = 2.0211596488952637 \t time = 35.10s\n",
      "Epoch 23/100 \t loss = 2.0033230781555176 \t time = 35.54s\n",
      "Epoch 24/100 \t loss = 1.986087441444397 \t time = 33.16s\n",
      "Epoch 25/100 \t loss = 1.969569206237793 \t time = 35.86s\n",
      "Epoch 26/100 \t loss = 1.9546704292297363 \t time = 34.70s\n",
      "Epoch 27/100 \t loss = 1.9401664733886719 \t time = 34.34s\n",
      "Epoch 28/100 \t loss = 1.92642080783844 \t time = 34.95s\n",
      "Epoch 29/100 \t loss = 1.913378357887268 \t time = 35.20s\n",
      "Epoch 30/100 \t loss = 1.9012579917907715 \t time = 37.00s\n",
      "Epoch 31/100 \t loss = 1.8893283605575562 \t time = 36.62s\n",
      "Epoch 32/100 \t loss = 1.8785598278045654 \t time = 34.77s\n",
      "Epoch 33/100 \t loss = 1.868591070175171 \t time = 35.79s\n",
      "Epoch 34/100 \t loss = 1.8589540719985962 \t time = 35.50s\n",
      "Epoch 35/100 \t loss = 1.8496721982955933 \t time = 33.74s\n",
      "Epoch 36/100 \t loss = 1.8408186435699463 \t time = 34.48s\n",
      "Epoch 37/100 \t loss = 1.83235502243042 \t time = 38.26s\n",
      "Epoch 38/100 \t loss = 1.824501395225525 \t time = 35.30s\n",
      "Epoch 39/100 \t loss = 1.816878318786621 \t time = 35.83s\n",
      "Epoch 40/100 \t loss = 1.8093478679656982 \t time = 34.91s\n",
      "Epoch 41/100 \t loss = 1.8022183179855347 \t time = 33.82s\n",
      "Epoch 42/100 \t loss = 1.7957347631454468 \t time = 33.49s\n",
      "Epoch 43/100 \t loss = 1.7893980741500854 \t time = 34.19s\n",
      "Epoch 44/100 \t loss = 1.7828516960144043 \t time = 33.39s\n",
      "Epoch 45/100 \t loss = 1.7766880989074707 \t time = 35.63s\n",
      "Epoch 46/100 \t loss = 1.7705711126327515 \t time = 34.79s\n",
      "Epoch 47/100 \t loss = 1.7648062705993652 \t time = 35.71s\n",
      "Epoch 48/100 \t loss = 1.7591133117675781 \t time = 34.20s\n",
      "Epoch 49/100 \t loss = 1.7537751197814941 \t time = 34.50s\n",
      "Epoch 50/100 \t loss = 1.7485712766647339 \t time = 35.39s\n",
      "Epoch 51/100 \t loss = 1.7434258460998535 \t time = 35.55s\n",
      "Epoch 52/100 \t loss = 1.7383555173873901 \t time = 35.48s\n",
      "Epoch 53/100 \t loss = 1.7336806058883667 \t time = 33.26s\n",
      "Epoch 54/100 \t loss = 1.7291855812072754 \t time = 36.34s\n",
      "Epoch 55/100 \t loss = 1.7247247695922852 \t time = 34.60s\n",
      "Epoch 56/100 \t loss = 1.7204078435897827 \t time = 34.95s\n",
      "Epoch 57/100 \t loss = 1.7158523797988892 \t time = 37.59s\n",
      "Epoch 58/100 \t loss = 1.711655616760254 \t time = 37.41s\n",
      "Epoch 59/100 \t loss = 1.7074075937271118 \t time = 34.70s\n",
      "Epoch 60/100 \t loss = 1.7034353017807007 \t time = 34.68s\n",
      "Epoch 61/100 \t loss = 1.69941246509552 \t time = 34.58s\n",
      "Epoch 62/100 \t loss = 1.6955405473709106 \t time = 34.21s\n",
      "Epoch 63/100 \t loss = 1.6912481784820557 \t time = 35.36s\n",
      "Epoch 64/100 \t loss = 1.6874067783355713 \t time = 34.08s\n",
      "Epoch 65/100 \t loss = 1.6835352182388306 \t time = 34.12s\n",
      "Epoch 66/100 \t loss = 1.679487943649292 \t time = 34.98s\n",
      "Epoch 67/100 \t loss = 1.6756384372711182 \t time = 35.80s\n",
      "Epoch 68/100 \t loss = 1.6717146635055542 \t time = 36.19s\n",
      "Epoch 69/100 \t loss = 1.6678528785705566 \t time = 34.22s\n",
      "Epoch 70/100 \t loss = 1.664178729057312 \t time = 34.21s\n",
      "Epoch 71/100 \t loss = 1.6604571342468262 \t time = 34.24s\n",
      "Epoch 72/100 \t loss = 1.656628131866455 \t time = 34.54s\n",
      "Epoch 73/100 \t loss = 1.6529635190963745 \t time = 34.82s\n",
      "Epoch 74/100 \t loss = 1.6494874954223633 \t time = 34.77s\n",
      "Epoch 75/100 \t loss = 1.6460622549057007 \t time = 35.53s\n",
      "Epoch 76/100 \t loss = 1.642643690109253 \t time = 34.94s\n",
      "Epoch 77/100 \t loss = 1.638969898223877 \t time = 34.50s\n",
      "Epoch 78/100 \t loss = 1.6353909969329834 \t time = 35.27s\n",
      "Epoch 79/100 \t loss = 1.6318483352661133 \t time = 34.95s\n",
      "Epoch 80/100 \t loss = 1.628302812576294 \t time = 35.72s\n",
      "Epoch 81/100 \t loss = 1.6247103214263916 \t time = 35.66s\n",
      "Epoch 82/100 \t loss = 1.6210206747055054 \t time = 33.98s\n",
      "Epoch 83/100 \t loss = 1.6173627376556396 \t time = 34.33s\n",
      "Epoch 84/100 \t loss = 1.6135731935501099 \t time = 34.52s\n",
      "Epoch 85/100 \t loss = 1.609944224357605 \t time = 35.77s\n",
      "Epoch 86/100 \t loss = 1.6063828468322754 \t time = 34.35s\n",
      "Epoch 87/100 \t loss = 1.6026663780212402 \t time = 35.74s\n",
      "Epoch 88/100 \t loss = 1.5988513231277466 \t time = 35.11s\n",
      "Epoch 89/100 \t loss = 1.595128059387207 \t time = 34.71s\n",
      "Epoch 90/100 \t loss = 1.5912073850631714 \t time = 35.92s\n",
      "Epoch 91/100 \t loss = 1.5873205661773682 \t time = 35.09s\n",
      "Epoch 92/100 \t loss = 1.5834910869598389 \t time = 33.82s\n",
      "Epoch 93/100 \t loss = 1.5797240734100342 \t time = 34.35s\n",
      "Epoch 94/100 \t loss = 1.5757702589035034 \t time = 34.12s\n",
      "Epoch 95/100 \t loss = 1.571717619895935 \t time = 34.73s\n",
      "Epoch 96/100 \t loss = 1.5677915811538696 \t time = 34.03s\n",
      "Epoch 97/100 \t loss = 1.5638964176177979 \t time = 33.43s\n",
      "Epoch 98/100 \t loss = 1.5600051879882812 \t time = 36.33s\n",
      "Epoch 99/100 \t loss = 1.5560601949691772 \t time = 35.09s\n",
      "Epoch 100/100 \t loss = 1.552128553390503 \t time = 35.76s\n"
     ]
    }
   ],
   "source": [
    "# train using (stochastic) gradient descent\n",
    "\n",
    "# set up\n",
    "V = V_init.copy()\n",
    "U = U_init.copy()\n",
    "params = [V, U]\n",
    "\n",
    "N = len(targets_data)\n",
    "n_epochs = 100\n",
    "\n",
    "lr = 0.1\n",
    "\n",
    "epoch_losses = []\n",
    "\n",
    "# gradient descent\n",
    "for epoch in range(n_epochs):\n",
    "\n",
    "    start_time = time.time()\n",
    "\n",
    "    # shuffle data\n",
    "    perm = np.random.permutation(N)\n",
    "    targets_epoch = targets_data[perm]\n",
    "    contexts_epoch = contexts_data[perm]\n",
    "    labels_epoch = labels_data[perm]\n",
    "\n",
    "    # every 20 epoch, lr -= 1\n",
    "    if epoch == 50 and epoch == 75:\n",
    "        lr /= 2\n",
    "\n",
    "    losses = []\n",
    "    for i in range(10000):\n",
    "        # stop after 10000 iterations\n",
    "        target = targets_epoch[i].astype(int) # ; print(f'target shape: {target.shape}')\n",
    "        context = contexts_epoch[i].astype(int)# ; print(f'context shape: {context}')\n",
    "        label = labels_epoch[i].astype(int)\n",
    "\n",
    "        # get the embedding vectors\n",
    "        v_t, u_c = get_embedding_vectors(target, context, V, U)\n",
    "\n",
    "        # get the loss value and gradient\n",
    "        loss_value = local_loss([v_t, u_c])\n",
    "        grad = L_grad([v_t, u_c])\n",
    "\n",
    "        # update the parameters\n",
    "        partial_V = grad[0]\n",
    "        partial_U = grad[1]\n",
    "        \n",
    "        V[:, target] = V[:, target] - lr * partial_V\n",
    "        U[context, :] = U[context, :] - lr * partial_U\n",
    "\n",
    "        # store the loss value\n",
    "        losses.append(loss_value)\n",
    "    \n",
    "    # store epoch losses\n",
    "    epoch_losses.append(np.mean(losses))\n",
    "\n",
    "    end_time = time.time()\n",
    "    \n",
    "    # print epoch loss\n",
    "    if epoch % 1 == 0:\n",
    "        print(f\"Epoch {epoch+1}/{n_epochs} \\t loss = {np.mean(epoch_losses)} \\t time = {end_time - start_time:.2f}s\")"
   ]
  },
  {
   "cell_type": "code",
   "execution_count": 74,
   "metadata": {},
   "outputs": [
    {
     "data": {
      "text/plain": [
       "Text(0, 0.5, 'Loss')"
      ]
     },
     "execution_count": 74,
     "metadata": {},
     "output_type": "execute_result"
    },
    {
     "data": {
      "image/png": "[encoded data removed]",
      "text/plain": [
       "<Figure size 640x480 with 1 Axes>"
      ]
     },
     "metadata": {},
     "output_type": "display_data"
    }
   ],
   "source": [
    "# plot losses\n",
    "import matplotlib.pyplot as plt\n",
    "plt.plot(epoch_losses)\n",
    "plt.xlabel('Iterations')\n",
    "plt.ylabel('Loss')"
   ]
  },
  {
   "cell_type": "code",
   "execution_count": 79,
   "metadata": {},
   "outputs": [
    {
     "data": {
      "text/plain": [
       "(15156, 300)"
      ]
     },
     "execution_count": 79,
     "metadata": {},
     "output_type": "execute_result"
    }
   ],
   "source": [
    "params[1].shape"
   ]
  },
  {
   "cell_type": "code",
   "execution_count": 80,
   "metadata": {},
   "outputs": [
    {
     "name": "stdout",
     "output_type": "stream",
     "text": [
      "V_trained shape: (300, 15156)\n",
      "U_trained shape: (15156, 300)\n"
     ]
    }
   ],
   "source": [
    "# copy U and V\n",
    "V_trained = np.copy(params[0])\n",
    "U_trained = np.copy(params[1])\n",
    "\n",
    "# check dimensions of U and V, 100 epochs, lr = 1, batch_size = 500\n",
    "print(f'V_trained shape: {V_trained.shape}')\n",
    "print(f'U_trained shape: {U_trained.shape}')"
   ]
  },
  {
   "cell_type": "code",
   "execution_count": 131,
   "metadata": {},
   "outputs": [
    {
     "name": "stdout",
     "output_type": "stream",
     "text": [
      "V_trained shape: (300, 15156)\n",
      "U_trained shape: (15156, 300)\n"
     ]
    }
   ],
   "source": [
    "# save V_trained, U_trained as csv files\n",
    "np.savetxt('./data/processed_data/V_trained.csv', V_trained, delimiter=',')\n",
    "np.savetxt('./data/processed_data/U_trained.csv', U_trained, delimiter=',')\n",
    "\n",
    "# reload these word embeddings\n",
    "V_trained = np.loadtxt('./data/processed_data/V_trained.csv', delimiter=',')\n",
    "U_trained = np.loadtxt('./data/processed_data/U_trained.csv', delimiter=',')\n",
    "\n",
    "# check shape\n",
    "print(f'V_trained shape: {V_trained.shape}')\n",
    "print(f'U_trained shape: {U_trained.shape}')"
   ]
  },
  {
   "cell_type": "markdown",
   "metadata": {},
   "source": [
    "**Sanity Check for Quality of Embeddings**\n",
    "\n",
    "* Cosine Similarity Check\n",
    "    * Select a few words from the dictionary\n",
    "    * Find the most similar word (use cosine rule)\n",
    "\n",
    "* t-SNE plot\n",
    "    * e.g. king and queen vs cars and trucks\n",
    "    * expect king and queen to be closer together and cars and trucks to be closer together"
   ]
  },
  {
   "cell_type": "code",
   "execution_count": 83,
   "metadata": {},
   "outputs": [],
   "source": [
    "# define cosine similiarity function\n",
    "def cosine_similarity(u, v):\n",
    "    \"\"\"\n",
    "    Input\n",
    "    u: vector of shape (n,) --> a word embeddng vector\n",
    "    v: vector of shape (n,) --> potential similar word embedding vector\n",
    "\n",
    "    Output\n",
    "    cosine similarity: real number\n",
    "    \"\"\"\n",
    "    return np.dot(u, v) / (np.linalg.norm(u) * np.linalg.norm(v))\n",
    "\n",
    "# given an index of a word in the vocab, find the most similar word using cosine similarity\n",
    "def most_similar_word(word_index, V):\n",
    "    \"\"\"\n",
    "    Input\n",
    "    word_index: integer --> index of a word in the vocab\n",
    "    V: matrix of shape (n, |v|) --> word embedding matrix\n",
    "\n",
    "    Output\n",
    "    most_similar_word: string\n",
    "    \"\"\"\n",
    "    word_vector = V[:, word_index]\n",
    "    similarities = []\n",
    "    for i in range(V.shape[1]):\n",
    "        if i == word_index:\n",
    "            continue\n",
    "        similarities.append(cosine_similarity(word_vector, V[:, i]))\n",
    "    most_similar_index = np.argmax(similarities)\n",
    "    return inverse_vocab[most_similar_index]"
   ]
  },
  {
   "cell_type": "code",
   "execution_count": 118,
   "metadata": {},
   "outputs": [
    {
     "name": "stdout",
     "output_type": "stream",
     "text": [
      "Random words: ['closed' 'ensuring' 'lavish' 'disabled' 'superbugs']\n",
      "Most similar word to 'closed': net\n",
      "Most similar word to 'ensuring': licorice\n",
      "Most similar word to 'lavish': mezhprombank\n",
      "Most similar word to 'disabled': hutchinson\n",
      "Most similar word to 'superbugs': stacked\n"
     ]
    }
   ],
   "source": [
    "# select n random words from the vocab list\n",
    "n = 5\n",
    "random_words = np.random.choice(list(vocab.keys()), n)\n",
    "print(f'Random words: {random_words}')\n",
    "\n",
    "# get the embedding vectors of the random words\n",
    "random_words_idx = [vocab[word] for word in random_words]\n",
    "\n",
    "# find the most similar word to the random words\n",
    "for i, word in enumerate(random_words):\n",
    "    print(f\"Most similar word to '{word}': {most_similar_word(random_words_idx[i], V_trained)}\")"
   ]
  },
  {
   "cell_type": "code",
   "execution_count": 120,
   "metadata": {},
   "outputs": [
    {
     "name": "stdout",
     "output_type": "stream",
     "text": [
      "Most similar word to 'produced': farmed\n",
      "Most similar word to 'lie': allegation\n",
      "Most similar word to 'chromecast': google\n",
      "Most similar word to 'evolved': undergo\n",
      "Most similar word to 'closed': net\n"
     ]
    }
   ],
   "source": [
    "words = ['produced', 'lie', 'chromecast', 'evolved', 'closed']\n",
    "# find most similar words\n",
    "for word in words:\n",
    "    word_idx = vocab[word]\n",
    "    print(f\"Most similar word to '{word}': {most_similar_word(word_idx, V_trained)}\")\n"
   ]
  },
  {
   "cell_type": "code",
   "execution_count": 127,
   "metadata": {},
   "outputs": [],
   "source": [
    "# plot t-SNE\n",
    "tsne = TSNE(n_components=2, random_state=0)\n",
    "V_trained_tsne = tsne.fit_transform(V_trained.T)\n",
    "\n",
    "# plot only selected words in the list\n",
    "target_words = ['produced', 'lie', 'chromecast', 'evolved', 'closed']\n",
    "similar_words = [most_similar_word(vocab[word], V_trained) for word in words]\n",
    "\n",
    "target_indices = [vocab[word] for word in words]\n",
    "similar_indices = [vocab[word] for word in similar_words]\n",
    "V_trained_tsne_target_words = V_trained_tsne[target_indices]\n",
    "V_trained_tsne_similar_words = V_trained_tsne[similar_indices]\n"
   ]
  },
  {
   "cell_type": "code",
   "execution_count": 128,
   "metadata": {},
   "outputs": [
    {
     "data": {
      "image/png": "[encoded data removed]",
      "text/plain": [
       "<Figure size 500x500 with 1 Axes>"
      ]
     },
     "metadata": {},
     "output_type": "display_data"
    }
   ],
   "source": [
    "# plot the t-sne graph, labelling the data point with the words\n",
    "plt.figure(figsize=(5, 5))\n",
    "plt.scatter(V_trained_tsne_target_words[:, 0], V_trained_tsne_target_words[:, 1], color='blue')\n",
    "plt.scatter(V_trained_tsne_similar_words[:, 0], V_trained_tsne_similar_words[:, 1], color='red')\n",
    "\n",
    "# label the data points with its corresponding words slightly above each data point\n",
    "for i, word in enumerate(words):\n",
    "    x, y = V_trained_tsne_target_words[i]\n",
    "    plt.text(x, y+0.1, word, fontsize=9)\n",
    "\n",
    "    x, y = V_trained_tsne_similar_words[i]\n",
    "    plt.text(x, y+0.1, similar_words[i], fontsize=9)"
   ]
  },
  {
   "cell_type": "markdown",
   "metadata": {},
   "source": [
    "## Evaluate against test set"
   ]
  },
  {
   "cell_type": "markdown",
   "metadata": {},
   "source": [
    "**Predict label of a (target, context) pair.**"
   ]
  },
  {
   "cell_type": "code",
   "execution_count": 88,
   "metadata": {},
   "outputs": [],
   "source": [
    "# define a logistic function\n",
    "# predicts if a (target word, context word) pair is a positive or negative sample\n",
    "# takes as input a batch of target indices, batch of context indices, word embedding matrices V and U\n",
    "def predict(target, context, V):\n",
    "    \"\"\"\n",
    "    Input\n",
    "    target: vector of shape (batch_size,) --> target word indices\n",
    "    context: vector of shape (batch_size,) --> context word indices\n",
    "    V: matrix of shape (n, |v|) --> word embedding matrix\n",
    "\n",
    "    Output\n",
    "    predicted: vector of shape (batch_size,) --> predicted values\n",
    "    \"\"\"\n",
    "    target = target.astype(int)\n",
    "    context = context.astype(int)\n",
    "    v_t = V.T[target]\n",
    "    u_c = V.T[context]\n",
    "    return sigmoid(np.sum(v_t * u_c, axis=1))\n",
    "\n",
    "# define a function that calculates the MSE between predicted and actual values\n",
    "def mse(predicted, actual):\n",
    "    \"\"\"\n",
    "    Input\n",
    "    predicted: vector of shape (batch_size,) --> predicted values\n",
    "    actual: vector of shape (batch_size,) --> actual values\n",
    "\n",
    "    Output\n",
    "    mse: real number --> mean squared error\n",
    "    \"\"\"\n",
    "    return np.mean((predicted - actual) ** 2)"
   ]
  },
  {
   "cell_type": "code",
   "execution_count": 89,
   "metadata": {},
   "outputs": [
    {
     "name": "stdout",
     "output_type": "stream",
     "text": [
      "MSE Train: 0.034249816089868546\n",
      "MSE Test: 0.1532941311597824\n"
     ]
    }
   ],
   "source": [
    "# evaluate on both train and test set\n",
    "# since contexts_data and labels_data is of shape (N, num_ns+1), we should use the first column as the context\n",
    "context_data = contexts_data[:, 0]\n",
    "label_data = labels_data[:, 0]\n",
    "\n",
    "# predict train set\n",
    "train_predicted = predict(targets_data, context_data, V_trained)\n",
    "mse_train = mse(train_predicted, label_data)\n",
    "\n",
    "# predict test set\n",
    "test_predicted = predict(targets_test, contexts_test, V_trained)\n",
    "mse_test = mse(test_predicted, labels_test)\n",
    "\n",
    "# print results\n",
    "print(f'MSE Train: {mse_train}')\n",
    "print(f'MSE Test: {mse_test}')"
   ]
  },
  {
   "cell_type": "code",
   "execution_count": null,
   "metadata": {},
   "outputs": [],
   "source": [
    "# define function that takes in an index and vocab size and returns the one-hot encoding\n",
    "def getOneHot(index, vocab_size):\n",
    "    onehot = np.zeros(vocab_size)\n",
    "    onehot[index] = 1\n",
    "    return onehot\n",
    "\n",
    "# define softmax function\n",
    "def softmax(x):\n",
    "    \"\"\"Compute softmax values for each sets of scores in x.\"\"\"\n",
    "    return np.exp(x) / np.sum(np.exp(x), axis=0)\n",
    "\n",
    "# test getOneHot and softmax function\n",
    "print(getOneHot(1, 10))\n",
    "print(softmax(np.array([1, 2, 3])))\n"
   ]
  },
  {
   "cell_type": "code",
   "execution_count": null,
   "metadata": {},
   "outputs": [],
   "source": [
    "# check dimensions of U and V\n",
    "print(f'U shape: {U.shape}')\n",
    "print(f'V shape: {V.shape}')"
   ]
  },
  {
   "cell_type": "code",
   "execution_count": null,
   "metadata": {},
   "outputs": [],
   "source": [
    "# see first 20 words in the vocab\n",
    "test_words = list(vocab.keys())[20:40]\n",
    "test_words"
   ]
  },
  {
   "cell_type": "code",
   "execution_count": null,
   "metadata": {},
   "outputs": [],
   "source": [
    "# define cosine similarity scores between 2 word vectors\n",
    "def similarity_score(target_word_embedding, context_word_embedding):\n",
    "    return np.dot(target_word_embedding, context_word_embedding) / (np.linalg.norm(target_word_embedding) * np.linalg.norm(context_word_embedding))\n",
    "\n",
    "# define a function that find the most similar words to a given word\n",
    "def most_similar_words(word, V, n=5):\n",
    "    scores = []\n",
    "    target_word_idx = vocab[word]\n",
    "    for i in range(V.shape[1]):\n",
    "        if i == target_word_idx or inverse_vocab[i] == '<pad>':\n",
    "            continue\n",
    "        scores.append((inverse_vocab[i], similarity_score(V[:, target_word_idx], V[:, i])))\n",
    "    scores = sorted(scores, key=lambda x: x[1], reverse=True)\n",
    "    return scores[:n]"
   ]
  },
  {
   "cell_type": "code",
   "execution_count": null,
   "metadata": {},
   "outputs": [],
   "source": [
    "# check similarity between words\n",
    "# word: photos\n",
    "print(most_similar_words('amazed', V_trained))"
   ]
  },
  {
   "cell_type": "code",
   "execution_count": null,
   "metadata": {},
   "outputs": [],
   "source": [
    "# compute a forward pass through the skip-gram model\n",
    "\n",
    "# define the forward pass function\n",
    "def net(V, U, target_word_idx):\n",
    "    target_hot = getOneHot(target_word_idx, len(vocab))\n",
    "    return softmax( U @ V @ target_hot )\n",
    "\n",
    "def predict(word, V, U):\n",
    "    target_word_idx = vocab[word]\n",
    "    y_hat = net(V, U, target_word_idx)\n",
    "    # y_hat is the probability distribution over the vocab\n",
    "    # select the top 5 words with the highest probability\n",
    "    top_5 = np.argsort(y_hat)[-10:][::-1]\n",
    "    top_5_words = [inverse_vocab[i] for i in top_5]\n",
    "    return top_5_words"
   ]
  },
  {
   "cell_type": "code",
   "execution_count": null,
   "metadata": {},
   "outputs": [],
   "source": [
    "# randomly select 1 word from vocab\n",
    "word = np.random.choice(list(vocab.keys()))\n",
    "y_hat = net(V_trained, U_trained, vocab[word])\n",
    "print(f'Word: {word}')\n",
    "predict(word, V_trained, U_trained)"
   ]
  },
  {
   "cell_type": "code",
   "execution_count": null,
   "metadata": {},
   "outputs": [],
   "source": []
  },
  {
   "cell_type": "code",
   "execution_count": null,
   "metadata": {},
   "outputs": [],
   "source": []
  },
  {
   "cell_type": "code",
   "execution_count": null,
   "metadata": {},
   "outputs": [],
   "source": []
  }
 ],
 "metadata": {
  "kernelspec": {
   "display_name": ".venv",
   "language": "python",
   "name": "python3"
  },
  "language_info": {
   "codemirror_mode": {
    "name": "ipython",
    "version": 3
   },
   "file_extension": ".py",
   "mimetype": "text/x-python",
   "name": "python",
   "nbconvert_exporter": "python",
   "pygments_lexer": "ipython3",
   "version": "3.8.5"
  }
 },
 "nbformat": 4,
 "nbformat_minor": 2
}
