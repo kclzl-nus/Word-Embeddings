{
 "cells": [
  {
   "cell_type": "code",
   "execution_count": 1,
   "metadata": {},
   "outputs": [],
   "source": [
    "import numpy as np\n",
    "import pandas as pd\n",
    "import tqdm\n",
    "import jax\n",
    "import jax.numpy as jnp\n",
    "import string\n",
    "import tensorflow as tf\n",
    "import time\n",
    "from tqdm import tqdm\n",
    "import nltk\n",
    "from nltk.corpus import stopwords"
   ]
  },
  {
   "cell_type": "markdown",
   "metadata": {},
   "source": [
    "## Data Preprocessing"
   ]
  },
  {
   "cell_type": "code",
   "execution_count": 2,
   "metadata": {},
   "outputs": [
    {
     "name": "stdout",
     "output_type": "stream",
     "text": [
      "Data Shape: (13368, 1)\n"
     ]
    },
    {
     "data": {
      "text/html": [
       "<div>\n",
       "<style scoped>\n",
       "    .dataframe tbody tr th:only-of-type {\n",
       "        vertical-align: middle;\n",
       "    }\n",
       "\n",
       "    .dataframe tbody tr th {\n",
       "        vertical-align: top;\n",
       "    }\n",
       "\n",
       "    .dataframe thead th {\n",
       "        text-align: right;\n",
       "    }\n",
       "</style>\n",
       "<table border=\"1\" class=\"dataframe\">\n",
       "  <thead>\n",
       "    <tr style=\"text-align: right;\">\n",
       "      <th></th>\n",
       "      <th>text</th>\n",
       "    </tr>\n",
       "  </thead>\n",
       "  <tbody>\n",
       "    <tr>\n",
       "      <th>0</th>\n",
       "      <td>Sally Forrest, an actress-dancer who graced th...</td>\n",
       "    </tr>\n",
       "    <tr>\n",
       "      <th>1</th>\n",
       "      <td>A middle-school teacher in China has inked hun...</td>\n",
       "    </tr>\n",
       "    <tr>\n",
       "      <th>2</th>\n",
       "      <td>A man convicted of killing the father and sist...</td>\n",
       "    </tr>\n",
       "    <tr>\n",
       "      <th>3</th>\n",
       "      <td>Avid rugby fan Prince Harry could barely watch...</td>\n",
       "    </tr>\n",
       "    <tr>\n",
       "      <th>4</th>\n",
       "      <td>A Triple M Radio producer has been inundated w...</td>\n",
       "    </tr>\n",
       "  </tbody>\n",
       "</table>\n",
       "</div>"
      ],
      "text/plain": [
       "                                                text\n",
       "0  Sally Forrest, an actress-dancer who graced th...\n",
       "1  A middle-school teacher in China has inked hun...\n",
       "2  A man convicted of killing the father and sist...\n",
       "3  Avid rugby fan Prince Harry could barely watch...\n",
       "4  A Triple M Radio producer has been inundated w..."
      ]
     },
     "execution_count": 2,
     "metadata": {},
     "output_type": "execute_result"
    }
   ],
   "source": [
    "data = pd.read_csv('./data/raw data/raw_data.csv', header=0, names=['text'], usecols=[1])\n",
    "print(f'Data Shape: {data.shape}')\n",
    "data.head()"
   ]
  },
  {
   "cell_type": "code",
   "execution_count": 3,
   "metadata": {},
   "outputs": [],
   "source": [
    "# remove punctuation\n",
    "punctuations = string.punctuation\n",
    "def remove_punctuation(txt):\n",
    "    for char in punctuations:\n",
    "        if char in txt:\n",
    "            txt = txt.replace(char, \"\")\n",
    "    return txt\n",
    "\n",
    "# change to lower caps\n",
    "data['text'] = data['text'].str.lower()\n",
    "\n",
    "# remove punctuations\n",
    "data['text'] = data['text'].apply(remove_punctuation)"
   ]
  },
  {
   "cell_type": "code",
   "execution_count": 4,
   "metadata": {},
   "outputs": [],
   "source": [
    "# remove stopwords\n",
    "# read stopwords from data/raw data/stopwords.txt\n",
    "stop_words = []\n",
    "with open('./data/raw data/stopwords.txt', 'r') as f:\n",
    "    for line in f:\n",
    "        stop_words.append(line.strip())\n",
    "\n",
    "def remove_stopwords(txt):\n",
    "    txt = [word for word in txt.split() if word not in stop_words]\n",
    "    return ' '.join(txt)\n",
    "\n",
    "data['text'] = data['text'].apply(remove_stopwords)"
   ]
  },
  {
   "cell_type": "code",
   "execution_count": 5,
   "metadata": {},
   "outputs": [
    {
     "name": "stdout",
     "output_type": "stream",
     "text": [
      "Number of rows of data: 200\n"
     ]
    },
    {
     "data": {
      "text/plain": [
       "0    [cornish, coast, toilet, block, stunning, sea,...\n",
       "1    [thousands, tourists, residents, basking, hot,...\n",
       "2    [rare, series, interlinked, operations, 12, pa...\n",
       "3    [jonjo, o’neill, doubts, shouting, particular,...\n",
       "4    [motherofthree, credited, slice, pizza, saving...\n",
       "Name: text, dtype: object"
      ]
     },
     "execution_count": 5,
     "metadata": {},
     "output_type": "execute_result"
    }
   ],
   "source": [
    "# split each row into list of words\n",
    "data_lst = data['text'].apply(lambda txt: txt.split(\" \"))\n",
    "\n",
    "# select number of rows to be used as training data\n",
    "nrows = 200\n",
    "random_indices = np.random.randint(low=0, high=len(data_lst), size=nrows)\n",
    "data_lst = data_lst[random_indices].reset_index(drop=True)\n",
    "\n",
    "print(f'Number of rows of data: {len(data_lst)}')\n",
    "data_lst[:5]"
   ]
  },
  {
   "cell_type": "code",
   "execution_count": 6,
   "metadata": {},
   "outputs": [
    {
     "name": "stdout",
     "output_type": "stream",
     "text": [
      "Vocab size: 14829\n"
     ]
    }
   ],
   "source": [
    "# vocab dict\n",
    "vocab, index = {}, 1\n",
    "vocab['<pad>'] = 0\n",
    "for line in data_lst:\n",
    "    for word in line:\n",
    "        if word not in vocab:\n",
    "            vocab[word] = index\n",
    "            index += 1\n",
    "\n",
    "# inverse_vocab dict\n",
    "inverse_vocab = {}\n",
    "for word, index in vocab.items():\n",
    "    inverse_vocab[index] = word\n",
    "\n",
    "print(f'Vocab size: {len(vocab)}')"
   ]
  },
  {
   "cell_type": "code",
   "execution_count": 7,
   "metadata": {},
   "outputs": [],
   "source": [
    "# sequences\n",
    "sequences = []\n",
    "for line in data_lst:\n",
    "    vectorized_line = [vocab[word] for word in line]\n",
    "    sequences.append(vectorized_line)"
   ]
  },
  {
   "cell_type": "markdown",
   "metadata": {},
   "source": [
    "## Split Train and Test Sets"
   ]
  },
  {
   "cell_type": "code",
   "execution_count": 8,
   "metadata": {},
   "outputs": [],
   "source": [
    "# split into train and test sets\n",
    "# choose 20 random sequences\n",
    "ntest = 20\n",
    "test_indices = np.random.randint(low=0, high=len(sequences), size=ntest)\n",
    "test_sequences = [sequences[i] for i in test_indices]\n",
    "train_sequences = [sequences[i] for i in range(len(sequences)) if i not in test_indices]"
   ]
  },
  {
   "cell_type": "code",
   "execution_count": 9,
   "metadata": {},
   "outputs": [],
   "source": [
    "# function to generate samples\n",
    "def generate_training_data(sequences, window_size, num_ns, vocab_size, seed):\n",
    "  # Elements of each training example are appended to these lists.\n",
    "  targets, contexts, labels = [], [], []\n",
    "\n",
    "  # Build the sampling table for `vocab_size` tokens.\n",
    "  sampling_table = tf.keras.preprocessing.sequence.make_sampling_table(vocab_size)\n",
    "\n",
    "  # Iterate over all sequences (sentences) in the dataset.\n",
    "  for sequence in tqdm(sequences):\n",
    "\n",
    "    # Generate positive skip-gram pairs for a sequence (sentence).\n",
    "    positive_skip_grams, _ = tf.keras.preprocessing.sequence.skipgrams(\n",
    "          sequence,\n",
    "          vocabulary_size=vocab_size,\n",
    "          sampling_table=sampling_table,\n",
    "          window_size=window_size,\n",
    "          negative_samples=0,\n",
    "          shuffle=True)\n",
    "\n",
    "    # Iterate over each positive skip-gram pair to produce training examples\n",
    "    # with a positive context word and negative samples.\n",
    "    for target_word, context_word in positive_skip_grams:\n",
    "      context_class = tf.reshape(tf.constant([context_word], dtype=\"int64\"), (1,1))\n",
    "      negative_sampling_candidates, _, _ = tf.random.log_uniform_candidate_sampler(\n",
    "          true_classes=context_class,\n",
    "          num_true=1,\n",
    "          num_sampled=num_ns,\n",
    "          unique=True,\n",
    "          range_max=vocab_size,\n",
    "          seed=seed,\n",
    "          name=\"negative_sampling\")\n",
    "\n",
    "      # Build context and label vectors (for one target word)\n",
    "      context = tf.concat([tf.squeeze(context_class,1), negative_sampling_candidates], 0)\n",
    "      label = tf.constant([1] + [0]*num_ns, dtype=\"int64\")\n",
    "\n",
    "      # Append each element from the training example to global lists.\n",
    "      targets.append(target_word)\n",
    "      contexts.append(context)\n",
    "      labels.append(label)\n",
    "\n",
    "  return targets, contexts, labels"
   ]
  },
  {
   "cell_type": "code",
   "execution_count": 10,
   "metadata": {},
   "outputs": [],
   "source": [
    "# function to generate testing data\n",
    "def generate_testing_data(sequences, vocab_size, window_size):\n",
    "    targets, contexts, labels = [], [], []\n",
    "    for sequence in tqdm(sequences):\n",
    "        positive_skip_grams, _ = tf.keras.preprocessing.sequence.skipgrams(\n",
    "            sequence,\n",
    "            vocabulary_size=vocab_size,\n",
    "            window_size=window_size,\n",
    "            negative_samples=0)\n",
    "    for target_word, context_word in positive_skip_grams:\n",
    "        targets.append(target_word)\n",
    "        contexts.append(context_word)\n",
    "        labels.append(1)\n",
    "    return targets, contexts, labels"
   ]
  },
  {
   "cell_type": "code",
   "execution_count": 11,
   "metadata": {},
   "outputs": [
    {
     "name": "stderr",
     "output_type": "stream",
     "text": [
      "100%|██████████| 182/182 [02:30<00:00,  1.21it/s]\n"
     ]
    },
    {
     "name": "stdout",
     "output_type": "stream",
     "text": [
      "targets shape: (316229,)\n",
      "contexts shape: (316229, 5)\n",
      "labels shape: (316229, 5)\n"
     ]
    }
   ],
   "source": [
    "# generate training data\n",
    "window_size = 5\n",
    "num_ns = 4\n",
    "vocab_size = len(vocab)\n",
    "seed = 4212\n",
    "\n",
    "targets, contexts, labels = generate_training_data(sequences=train_sequences,\n",
    "                                                 window_size=window_size,\n",
    "                                                 num_ns=num_ns,\n",
    "                                                 vocab_size=vocab_size,\n",
    "                                                 seed=seed)\n",
    "\n",
    "targets = np.array(targets)\n",
    "contexts = np.array(contexts)\n",
    "labels = np.array(labels)\n",
    "\n",
    "print(f'targets shape: {targets.shape}')\n",
    "print(f'contexts shape: {contexts.shape}')\n",
    "print(f'labels shape: {labels.shape}')"
   ]
  },
  {
   "cell_type": "code",
   "execution_count": 12,
   "metadata": {},
   "outputs": [
    {
     "name": "stderr",
     "output_type": "stream",
     "text": [
      "100%|██████████| 20/20 [00:00<00:00, 165.09it/s]"
     ]
    },
    {
     "name": "stdout",
     "output_type": "stream",
     "text": [
      "targets_test shape: (2280,)\n",
      "contexts_test shape: (2280,)\n",
      "labels_test shape: (2280,)\n"
     ]
    },
    {
     "name": "stderr",
     "output_type": "stream",
     "text": [
      "\n"
     ]
    }
   ],
   "source": [
    "# generate testing data\n",
    "targets_test, contexts_test, labels_test = generate_testing_data(sequences=test_sequences,\n",
    "                                                                    vocab_size=vocab_size,\n",
    "                                                                    window_size=window_size)\n",
    "\n",
    "targets_test = np.array(targets_test)\n",
    "contexts_test = np.array(contexts_test)\n",
    "labels_test = np.array(labels_test)\n",
    "\n",
    "print(f'targets_test shape: {targets_test.shape}')\n",
    "print(f'contexts_test shape: {contexts_test.shape}')\n",
    "print(f'labels_test shape: {labels_test.shape}')"
   ]
  },
  {
   "cell_type": "markdown",
   "metadata": {},
   "source": [
    "**Sanity Check on quality of training and testing data**"
   ]
  },
  {
   "cell_type": "code",
   "execution_count": 13,
   "metadata": {},
   "outputs": [
    {
     "name": "stdout",
     "output_type": "stream",
     "text": [
      "target_index    : 128\n",
      "target_word     : frank\n",
      "context_indices : [ 132   39 1582 1593 1067]\n",
      "context_words   : ['told', 'sale', 'monitored', 'authority', 'quiet']\n",
      "label           : [1 0 0 0 0]\n",
      "target  : 128\n",
      "context : [ 132   39 1582 1593 1067]\n",
      "label   : [1 0 0 0 0]\n"
     ]
    }
   ],
   "source": [
    "# training data\n",
    "print(f\"target_index    : {targets[0]}\")\n",
    "print(f\"target_word     : {inverse_vocab[targets[0]]}\")\n",
    "print(f\"context_indices : {contexts[0]}\")\n",
    "print(f\"context_words   : {[inverse_vocab[c] for c in contexts[0]]}\")\n",
    "print(f\"label           : {labels[0]}\")\n",
    "\n",
    "print(\"target  :\", targets[0])\n",
    "print(\"context :\", contexts[0])\n",
    "print(\"label   :\", labels[0])"
   ]
  },
  {
   "cell_type": "code",
   "execution_count": 14,
   "metadata": {},
   "outputs": [
    {
     "name": "stdout",
     "output_type": "stream",
     "text": [
      "target_index    : 11131\n",
      "target_word     : rome\n",
      "context_index : 6769\n",
      "context_word   : starts\n",
      "label           : 1\n",
      "target  : 11131\n",
      "context : 6769\n",
      "label   : 1\n"
     ]
    }
   ],
   "source": [
    "# testing data\n",
    "print(f\"target_index    : {targets_test[0]}\")\n",
    "print(f\"target_word     : {inverse_vocab[targets_test[0]]}\")\n",
    "print(f\"context_index : {contexts_test[0]}\")\n",
    "print(f\"context_word   : {inverse_vocab[contexts_test[0]]}\")\n",
    "print(f\"label           : {labels_test[0]}\")\n",
    "\n",
    "print(\"target  :\", targets_test[0])\n",
    "print(\"context :\", contexts_test[0])\n",
    "print(\"label   :\", labels_test[0])"
   ]
  },
  {
   "cell_type": "markdown",
   "metadata": {},
   "source": [
    "## Minimizing Objective Function for SGNS"
   ]
  },
  {
   "cell_type": "markdown",
   "metadata": {},
   "source": [
    "$$\n",
    "\n",
    "\\min_{\\theta} = \\frac{1}{N} \\sum_{i=1}^{N} [log \\sigma(u_{ic}^T)  + \\sum_{k=1}^{K}log \\sigma(-u_{kc}^T v_{iw})]\n",
    "\n",
    "\\\\\n",
    "\\\\\n",
    "\\theta = [U, V]\n",
    "\n",
    "$$"
   ]
  },
  {
   "cell_type": "code",
   "execution_count": 15,
   "metadata": {},
   "outputs": [],
   "source": [
    "# sigmoid function\n",
    "def sigmoid(x):\n",
    "    \"\"\"Inputs a real number, outputs a real number\"\"\"\n",
    "    return 1 / (1 + jnp.exp(-x))\n"
   ]
  },
  {
   "cell_type": "code",
   "execution_count": 16,
   "metadata": {},
   "outputs": [],
   "source": [
    "# define a local loss function\n",
    "# where it takes a params argument where params = [U, V]\n",
    "# U and V are the embedding matrices. Dimension of U : (n x |v|), Dimension of V : (|v| x n)\n",
    "# target is the index of the target word vector in the V matrix. Dimension: (1,)\n",
    "# context is the index of the context word vectors in the U matrix. Dimension: (n,)\n",
    "# returns a real number\n",
    "\n",
    "def local_loss(params,\n",
    "               target,\n",
    "               context):\n",
    "    \"\"\"\n",
    "    Input (example)\n",
    "    target = (188,)\n",
    "    context = (93, 40, 1648, 1659, 1109)\n",
    "    params = [V, U]\n",
    "        V: matrix of dim (n x |v|)\n",
    "        U: matrix of dim (|v| x n)\n",
    "            n = embedding dimension, |v| = vocab size\n",
    "\n",
    "    Outputs the local_loss -> real number\n",
    "    \"\"\"\n",
    "    target = target.astype(int)\n",
    "    context = context.astype(int)\n",
    "    V_embedding =params[0][0]\n",
    "    U_embedding = params[0][1]\n",
    "    \n",
    "    v_t = V_embedding.T[target]; print(f'v_t shape: {v_t.shape}') # shape (300,)\n",
    "    u_pos = U_embedding[context[0]]; print(f'u_pos shape: {u_pos.shape}')  # shape(300,)\n",
    "    u_neg = U_embedding[context[1:]]; print(f'u_neg shape: {u_neg.shape}')  # shape(4, 300)\n",
    "\n",
    "    return -jnp.log(sigmoid(jnp.dot(u_pos.T, v_t))) - jnp.sum(jnp.log(sigmoid(-jnp.dot(u_neg, v_t))))"
   ]
  },
  {
   "cell_type": "code",
   "execution_count": 17,
   "metadata": {},
   "outputs": [],
   "source": [
    "# vmap the local loss across a batch of data points\n",
    "loss_all = jax.vmap(local_loss, in_axes=(None, 0, 0))\n",
    "\n",
    "@jax.jit\n",
    "def loss(params, targets, contexts):\n",
    "    \"\"\"return average of all the local losses\"\"\"\n",
    "    all_losses = loss_all(params, targets, contexts)\n",
    "    return jnp.mean(all_losses)\n",
    "\n",
    "# get the loss value and gradient\n",
    "loss_value_and_grad = jax.jit( jax.value_and_grad(loss) )"
   ]
  },
  {
   "cell_type": "code",
   "execution_count": 18,
   "metadata": {},
   "outputs": [
    {
     "name": "stdout",
     "output_type": "stream",
     "text": [
      "V shape: (300, 14829)\n",
      "U shape: (14829, 300)\n",
      "targets_data shape: (316229,)\n",
      "contexts_data shape: (316229, 5)\n",
      "labels_data shape: (316229, 5)\n"
     ]
    }
   ],
   "source": [
    "# set up\n",
    "n = 300\n",
    "v = len(vocab)\n",
    "V = np.random.normal(0, 1, size=(n, v)) / np.sqrt(v)\n",
    "U = np.random.normal(0, 1, size=(v, n)) / np.sqrt(v)\n",
    "params = [(V, U)]\n",
    "targets_data = targets.astype(float)\n",
    "contexts_data = contexts.astype(float)\n",
    "labels_data = labels.astype(float)\n",
    "\n",
    "print(f'V shape: {V.shape}')\n",
    "print(f'U shape: {U.shape}')\n",
    "print(f'targets_data shape: {targets_data.shape}')\n",
    "print(f'contexts_data shape: {contexts_data.shape}')\n",
    "print(f'labels_data shape: {labels_data.shape}')"
   ]
  },
  {
   "cell_type": "code",
   "execution_count": 19,
   "metadata": {},
   "outputs": [
    {
     "name": "stdout",
     "output_type": "stream",
     "text": [
      "v_t shape: (300,)\n",
      "u_pos shape: (300,)\n",
      "u_neg shape: (4, 300)\n",
      "Epoch 1/100 \t loss = 3.2259926795959473 \t time = 18.18s\n",
      "Epoch 2/100 \t loss = 2.746544361114502 \t time = 16.72s\n",
      "Epoch 3/100 \t loss = 2.474778890609741 \t time = 16.10s\n",
      "Epoch 4/100 \t loss = 2.303170680999756 \t time = 16.31s\n",
      "Epoch 5/100 \t loss = 2.183927536010742 \t time = 15.84s\n",
      "Epoch 6/100 \t loss = 2.0956599712371826 \t time = 16.00s\n",
      "Epoch 7/100 \t loss = 2.0273597240448 \t time = 17.33s\n",
      "Epoch 8/100 \t loss = 1.9727609157562256 \t time = 16.10s\n",
      "Epoch 9/100 \t loss = 1.9279817342758179 \t time = 16.50s\n",
      "Epoch 10/100 \t loss = 1.8905121088027954 \t time = 15.98s\n",
      "Epoch 11/100 \t loss = 1.8586186170578003 \t time = 16.65s\n",
      "Epoch 12/100 \t loss = 1.8310546875 \t time = 17.51s\n",
      "Epoch 13/100 \t loss = 1.8068960905075073 \t time = 17.60s\n",
      "Epoch 14/100 \t loss = 1.7854450941085815 \t time = 16.63s\n",
      "Epoch 15/100 \t loss = 1.766162395477295 \t time = 16.03s\n",
      "Epoch 16/100 \t loss = 1.7485976219177246 \t time = 16.74s\n",
      "Epoch 17/100 \t loss = 1.7324066162109375 \t time = 15.81s\n",
      "Epoch 18/100 \t loss = 1.7173000574111938 \t time = 15.86s\n",
      "Epoch 19/100 \t loss = 1.7030539512634277 \t time = 15.85s\n",
      "Epoch 20/100 \t loss = 1.689465880393982 \t time = 15.86s\n",
      "Epoch 21/100 \t loss = 1.6763614416122437 \t time = 15.84s\n",
      "Epoch 22/100 \t loss = 1.664042592048645 \t time = 15.85s\n",
      "Epoch 23/100 \t loss = 1.652381181716919 \t time = 16.04s\n",
      "Epoch 24/100 \t loss = 1.6412843465805054 \t time = 15.93s\n",
      "Epoch 25/100 \t loss = 1.6306670904159546 \t time = 16.96s\n",
      "Epoch 26/100 \t loss = 1.6204533576965332 \t time = 16.53s\n",
      "Epoch 27/100 \t loss = 1.610579013824463 \t time = 15.43s\n",
      "Epoch 28/100 \t loss = 1.6009914875030518 \t time = 15.36s\n",
      "Epoch 29/100 \t loss = 1.5916463136672974 \t time = 15.30s\n",
      "Epoch 30/100 \t loss = 1.582499623298645 \t time = 15.26s\n",
      "Epoch 31/100 \t loss = 1.573518991470337 \t time = 15.23s\n",
      "Epoch 32/100 \t loss = 1.564673662185669 \t time = 15.34s\n",
      "Epoch 33/100 \t loss = 1.5559327602386475 \t time = 15.31s\n",
      "Epoch 34/100 \t loss = 1.547275424003601 \t time = 15.29s\n",
      "Epoch 35/100 \t loss = 1.5386830568313599 \t time = 15.27s\n",
      "Epoch 36/100 \t loss = 1.5301371812820435 \t time = 15.29s\n",
      "Epoch 37/100 \t loss = 1.5216234922409058 \t time = 17.87s\n",
      "Epoch 38/100 \t loss = 1.5131254196166992 \t time = 17.39s\n",
      "Epoch 39/100 \t loss = 1.5046350955963135 \t time = 14.95s\n",
      "Epoch 40/100 \t loss = 1.4961427450180054 \t time = 14.76s\n",
      "Epoch 41/100 \t loss = 1.4876389503479004 \t time = 14.79s\n",
      "Epoch 42/100 \t loss = 1.4791196584701538 \t time = 14.80s\n",
      "Epoch 43/100 \t loss = 1.4705805778503418 \t time = 14.78s\n",
      "Epoch 44/100 \t loss = 1.462015986442566 \t time = 14.80s\n",
      "Epoch 45/100 \t loss = 1.4534225463867188 \t time = 16.07s\n",
      "Epoch 46/100 \t loss = 1.4447990655899048 \t time = 18.28s\n",
      "Epoch 47/100 \t loss = 1.436144232749939 \t time = 15.88s\n",
      "Epoch 48/100 \t loss = 1.4274555444717407 \t time = 15.83s\n",
      "Epoch 49/100 \t loss = 1.4187349081039429 \t time = 15.85s\n",
      "Epoch 50/100 \t loss = 1.4099845886230469 \t time = 15.77s\n",
      "Epoch 51/100 \t loss = 1.4012218713760376 \t time = 15.85s\n",
      "Epoch 52/100 \t loss = 1.3926142454147339 \t time = 15.83s\n",
      "Epoch 53/100 \t loss = 1.3841522932052612 \t time = 15.82s\n",
      "Epoch 54/100 \t loss = 1.375826120376587 \t time = 15.83s\n",
      "Epoch 55/100 \t loss = 1.3676315546035767 \t time = 15.85s\n",
      "Epoch 56/100 \t loss = 1.3595607280731201 \t time = 15.85s\n",
      "Epoch 57/100 \t loss = 1.3516064882278442 \t time = 15.80s\n",
      "Epoch 58/100 \t loss = 1.3437639474868774 \t time = 17.15s\n",
      "Epoch 59/100 \t loss = 1.336028814315796 \t time = 16.96s\n",
      "Epoch 60/100 \t loss = 1.3283953666687012 \t time = 15.85s\n",
      "Epoch 61/100 \t loss = 1.3208590745925903 \t time = 15.85s\n",
      "Epoch 62/100 \t loss = 1.3134158849716187 \t time = 16.28s\n",
      "Epoch 63/100 \t loss = 1.3060616254806519 \t time = 16.60s\n",
      "Epoch 64/100 \t loss = 1.2987940311431885 \t time = 15.85s\n",
      "Epoch 65/100 \t loss = 1.2916072607040405 \t time = 16.46s\n",
      "Epoch 66/100 \t loss = 1.2844997644424438 \t time = 15.89s\n",
      "Epoch 67/100 \t loss = 1.277469515800476 \t time = 15.80s\n",
      "Epoch 68/100 \t loss = 1.270512580871582 \t time = 15.77s\n",
      "Epoch 69/100 \t loss = 1.2636276483535767 \t time = 15.78s\n",
      "Epoch 70/100 \t loss = 1.2568119764328003 \t time = 15.81s\n",
      "Epoch 71/100 \t loss = 1.2500629425048828 \t time = 15.83s\n",
      "Epoch 72/100 \t loss = 1.2433785200119019 \t time = 15.78s\n",
      "Epoch 73/100 \t loss = 1.2367573976516724 \t time = 16.29s\n",
      "Epoch 74/100 \t loss = 1.2301982641220093 \t time = 15.03s\n",
      "Epoch 75/100 \t loss = 1.2236990928649902 \t time = 14.76s\n",
      "Epoch 76/100 \t loss = 1.2172616720199585 \t time = 14.61s\n",
      "Epoch 77/100 \t loss = 1.2109358310699463 \t time = 14.64s\n",
      "Epoch 78/100 \t loss = 1.2047182321548462 \t time = 14.58s\n",
      "Epoch 79/100 \t loss = 1.1986039876937866 \t time = 14.64s\n",
      "Epoch 80/100 \t loss = 1.1925899982452393 \t time = 14.61s\n",
      "Epoch 81/100 \t loss = 1.1866732835769653 \t time = 14.95s\n",
      "Epoch 82/100 \t loss = 1.1808489561080933 \t time = 18.53s\n",
      "Epoch 83/100 \t loss = 1.1751152276992798 \t time = 14.95s\n",
      "Epoch 84/100 \t loss = 1.1694693565368652 \t time = 17.45s\n",
      "Epoch 85/100 \t loss = 1.1639076471328735 \t time = 14.79s\n",
      "Epoch 86/100 \t loss = 1.1584281921386719 \t time = 14.75s\n",
      "Epoch 87/100 \t loss = 1.1530269384384155 \t time = 14.74s\n",
      "Epoch 88/100 \t loss = 1.147702932357788 \t time = 14.74s\n",
      "Epoch 89/100 \t loss = 1.1424530744552612 \t time = 14.80s\n",
      "Epoch 90/100 \t loss = 1.1372750997543335 \t time = 14.80s\n",
      "Epoch 91/100 \t loss = 1.1321680545806885 \t time = 14.80s\n",
      "Epoch 92/100 \t loss = 1.127150535583496 \t time = 14.76s\n",
      "Epoch 93/100 \t loss = 1.1222188472747803 \t time = 14.74s\n",
      "Epoch 94/100 \t loss = 1.1173715591430664 \t time = 14.77s\n",
      "Epoch 95/100 \t loss = 1.1126049757003784 \t time = 14.77s\n",
      "Epoch 96/100 \t loss = 1.1079169511795044 \t time = 14.73s\n",
      "Epoch 97/100 \t loss = 1.1033055782318115 \t time = 14.76s\n",
      "Epoch 98/100 \t loss = 1.0987681150436401 \t time = 14.73s\n",
      "Epoch 99/100 \t loss = 1.0943026542663574 \t time = 14.78s\n",
      "Epoch 100/100 \t loss = 1.0899068117141724 \t time = 14.74s\n"
     ]
    }
   ],
   "source": [
    "# train using stochastic gradient descent\n",
    "\n",
    "# number of training examples\n",
    "N = len(targets_data)\n",
    "\n",
    "# learning rate\n",
    "lr = 10.\n",
    "\n",
    "# number of epochs\n",
    "n_epochs = 100\n",
    "\n",
    "# batch size\n",
    "batch_size = 1000\n",
    "\n",
    "# number of batches per epoch\n",
    "n_batches = N // batch_size\n",
    "\n",
    "# keep track of losses\n",
    "epoch_losses = []\n",
    "\n",
    "# training the network\n",
    "for epoch in range(n_epochs):\n",
    "    start_time = time.time()\n",
    "    # shuffle data\n",
    "    perm = np.random.permutation(N)\n",
    "    targets_epoch = targets_data[perm]\n",
    "    contexts_epoch = contexts_data[perm]\n",
    "    labels_epoch = labels_data[perm]\n",
    "\n",
    "    # decrease learning rate\n",
    "    if epoch == 20 or epoch == 50 or epoch == 75 or epoch == 90:\n",
    "        lr /= 2.\n",
    "\n",
    "    # losses in each epoch\n",
    "    losses = []\n",
    "    for batch in range(n_batches):\n",
    "        targets_batch = targets_epoch[batch*batch_size: (batch+1)*batch_size]\n",
    "        contexts_batch = contexts_epoch[batch*batch_size: (batch+1)*batch_size]\n",
    "        labels_batch = labels_epoch[batch*batch_size: (batch+1)*batch_size]\n",
    "\n",
    "        # calculate and save losses\n",
    "        loss_value, gradient = loss_value_and_grad(params, targets_batch, contexts_batch)\n",
    "        losses.append(loss_value)\n",
    "\n",
    "        params = [(V - lr*dV, U - lr*dU) for (V, U), (dV, dU) in zip(params, gradient)]\n",
    "\n",
    "    epoch_losses.append(np.mean(losses))\n",
    "\n",
    "    end_time = time.time()\n",
    "    if epoch % 1 == 0:\n",
    "        print(f\"Epoch {epoch+1}/{n_epochs} \\t loss = {np.mean(epoch_losses)} \\t time = {end_time - start_time:.2f}s\")"
   ]
  },
  {
   "cell_type": "code",
   "execution_count": 20,
   "metadata": {},
   "outputs": [
    {
     "data": {
      "text/plain": [
       "Text(0, 0.5, 'Loss')"
      ]
     },
     "execution_count": 20,
     "metadata": {},
     "output_type": "execute_result"
    },
    {
     "data": {
      "image/png": "[encoded data removed]",
      "text/plain": [
       "<Figure size 640x480 with 1 Axes>"
      ]
     },
     "metadata": {},
     "output_type": "display_data"
    }
   ],
   "source": [
    "# plot losses\n",
    "import matplotlib.pyplot as plt\n",
    "plt.plot(epoch_losses)\n",
    "plt.xlabel('Iterations')\n",
    "plt.ylabel('Loss')"
   ]
  },
  {
   "cell_type": "code",
   "execution_count": 21,
   "metadata": {},
   "outputs": [
    {
     "name": "stdout",
     "output_type": "stream",
     "text": [
      "V_trained shape: (300, 14829)\n",
      "U_trained shape: (14829, 300)\n"
     ]
    }
   ],
   "source": [
    "# copy U and V\n",
    "V_trained = np.copy(params[0][0])\n",
    "U_trained = np.copy(params[0][1])\n",
    "\n",
    "# check dimensions of U and V, 100 epochs, lr = 1, batch_size = 500\n",
    "print(f'V_trained shape: {V_trained.shape}')\n",
    "print(f'U_trained shape: {U_trained.shape}')"
   ]
  },
  {
   "cell_type": "markdown",
   "metadata": {},
   "source": [
    "## Evaluate against test set"
   ]
  },
  {
   "cell_type": "code",
   "execution_count": 22,
   "metadata": {},
   "outputs": [
    {
     "name": "stdout",
     "output_type": "stream",
     "text": [
      "[0.09003057 0.24472847 0.66524096]\n"
     ]
    }
   ],
   "source": [
    "# define a function that takes in as input target and vocab length\n",
    "# outputs a one-hot vector, x_hot of dimension = (vocab_length,)\n",
    "def get_x_hot(target_idx, vocab_length):\n",
    "    x_hot = np.zeros(vocab_length, dtype=float)\n",
    "    x_hot[target_idx] = 1.0\n",
    "    return jnp.array(x_hot)\n",
    "\n",
    "# define softmax function\n",
    "def softmax(x):\n",
    "    \"\"\"Compute softmax values for each sets of scores in x.\"\"\"\n",
    "    return np.exp(x) / np.sum(np.exp(x), axis=0)\n",
    "\n",
    "print(softmax(np.array([1, 2, 3])))\n"
   ]
  },
  {
   "cell_type": "code",
   "execution_count": 23,
   "metadata": {},
   "outputs": [
    {
     "data": {
      "text/plain": [
       "['public',\n",
       " 'loos',\n",
       " 'charlestown',\n",
       " '–',\n",
       " 'historic',\n",
       " 'harbour',\n",
       " 'location',\n",
       " 'bbc',\n",
       " 'blockbuster',\n",
       " 'sunday',\n",
       " 'drama',\n",
       " 'poldark',\n",
       " 'filmed',\n",
       " 'smashed',\n",
       " 'auction',\n",
       " 'guide',\n",
       " 'price',\n",
       " '£75000',\n",
       " '£95000',\n",
       " 'sale']"
      ]
     },
     "execution_count": 23,
     "metadata": {},
     "output_type": "execute_result"
    }
   ],
   "source": [
    "# see first 20 words in the vocab\n",
    "test_words = list(vocab.keys())[20:40]\n",
    "test_words"
   ]
  },
  {
   "cell_type": "code",
   "execution_count": 45,
   "metadata": {},
   "outputs": [
    {
     "data": {
      "text/plain": [
       "[('undermined', 0.8307438),\n",
       " ('disrepute', 0.8226104),\n",
       " ('reeks', 0.8185903),\n",
       " ('prohibits', 0.8088604),\n",
       " ('13', 0.80728334)]"
      ]
     },
     "execution_count": 45,
     "metadata": {},
     "output_type": "execute_result"
    }
   ],
   "source": [
    "# define cosine similarity scores between 2 word vectors\n",
    "def similarity_score(target_word_embedding, context_word_embedding):\n",
    "    return np.dot(target_word_embedding, context_word_embedding) / ((np.linalg.norm(target_word_embedding) * np.linalg.norm(context_word_embedding)))\n",
    "\n",
    "# define a function that find the most similar words to a given word\n",
    "def most_similar_words(word, V, n=5):\n",
    "    scores = []\n",
    "    target_word_idx = vocab[word]\n",
    "    for i in range(V.shape[1]):\n",
    "        if i == target_word_idx or inverse_vocab[i] == '<pad>':\n",
    "            continue\n",
    "        scores.append((inverse_vocab[i], similarity_score(V[:, target_word_idx], V[:, i])))\n",
    "    scores = sorted(scores, key=lambda x: x[1], reverse=True)\n",
    "    return scores[:n]\n",
    "\n",
    "most_similar_words('public', V_trained)"
   ]
  },
  {
   "cell_type": "code",
   "execution_count": 33,
   "metadata": {},
   "outputs": [],
   "source": [
    "# compute a forward pass through the skip-gram model\n",
    "\n",
    "# define the forward pass function\n",
    "def net(V, U, target_word_idx):\n",
    "    target_hot = get_x_hot(target_word_idx, len(vocab))\n",
    "    return softmax( U @ V @ target_hot )\n",
    "\n",
    "def predict(word, V, U):\n",
    "    target_word_idx = vocab[word]\n",
    "    y_hat = net(V, U, target_word_idx)\n",
    "    # y_hat is the probability distribution over the vocab\n",
    "    # select the top 5 words with the highest probability\n",
    "    top_5 = np.argsort(y_hat)[-10:][::-1]\n",
    "    top_5_words = [inverse_vocab[i] for i in top_5]\n",
    "    return top_5_words"
   ]
  },
  {
   "cell_type": "code",
   "execution_count": 38,
   "metadata": {},
   "outputs": [
    {
     "name": "stdout",
     "output_type": "stream",
     "text": [
      "Word: contradictions\n"
     ]
    },
    {
     "data": {
      "text/plain": [
       "['emily',\n",
       " 'team',\n",
       " 'vettel',\n",
       " 'xavi',\n",
       " '—',\n",
       " 'france',\n",
       " 'krejcir',\n",
       " 'sterlings',\n",
       " 'jean',\n",
       " 'arias']"
      ]
     },
     "execution_count": 38,
     "metadata": {},
     "output_type": "execute_result"
    }
   ],
   "source": [
    "# randomly select 1 word from vocab\n",
    "word = np.random.choice(list(vocab.keys()))\n",
    "y_hat = net(V_trained, U_trained, vocab[word])\n",
    "print(f'Word: {word}')\n",
    "predict(word, V_trained, U_trained)"
   ]
  }
 ],
 "metadata": {
  "kernelspec": {
   "display_name": ".venv",
   "language": "python",
   "name": "python3"
  },
  "language_info": {
   "codemirror_mode": {
    "name": "ipython",
    "version": 3
   },
   "file_extension": ".py",
   "mimetype": "text/x-python",
   "name": "python",
   "nbconvert_exporter": "python",
   "pygments_lexer": "ipython3",
   "version": "3.8.5"
  }
 },
 "nbformat": 4,
 "nbformat_minor": 2
}
