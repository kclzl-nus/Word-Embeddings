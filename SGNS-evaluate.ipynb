{
 "cells": [
  {
   "cell_type": "markdown",
   "metadata": {},
   "source": [
    "# Visualization of Word Embeddings Quality\n",
    "\n",
    "**Outline**\n",
    "\n",
    "1. Read the top word embedding only\n",
    "2. Plot epoch_losses, train_accuracies, train_mses, test_accuracies, test_mses\n",
    "3. Using the best model, test aginst 2 pairs of analogous words\n",
    "    * plot t-sne\n",
    "    * plot PCA\n",
    "4. Pass 2 target words through 1 forward pass of the skip-gram model and evaluate ability to find context words given a target word."
   ]
  },
  {
   "cell_type": "code",
   "execution_count": 1,
   "metadata": {},
   "outputs": [],
   "source": [
    "import numpy as np\n",
    "import pandas as pd\n",
    "import tqdm\n",
    "import jax\n",
    "import jax.numpy as jnp\n",
    "import string\n",
    "import tensorflow as tf\n",
    "import time\n",
    "from tqdm import tqdm\n",
    "import nltk\n",
    "from nltk.corpus import stopwords\n",
    "\n",
    "# import libraries relevant to plotting (t-SNE)\n",
    "import matplotlib.pyplot as plt\n",
    "from sklearn.manifold import TSNE"
   ]
  },
  {
   "cell_type": "markdown",
   "metadata": {},
   "source": [
    "#### Define all the functions"
   ]
  },
  {
   "cell_type": "code",
   "execution_count": 2,
   "metadata": {},
   "outputs": [],
   "source": [
    "# define cosine similarity scores between 2 word vectors\n",
    "def similarity_score(target_word_embedding, context_word_embedding):\n",
    "    return np.dot(target_word_embedding, context_word_embedding) / (np.linalg.norm(target_word_embedding) * np.linalg.norm(context_word_embedding))\n",
    "\n",
    "# define a function that find the most similar words to a given word\n",
    "def most_similar_words(word, V, vocab, inverse_vocab, n=5):\n",
    "    scores = []\n",
    "    target_word_idx = vocab[word]\n",
    "    for i in range(V.shape[1]):\n",
    "        if i == target_word_idx or inverse_vocab[str(i)] == '<pad>':\n",
    "            continue\n",
    "        scores.append((inverse_vocab[str(i)], similarity_score(V[:, target_word_idx], V[:, i])))\n",
    "    scores = sorted(scores, key=lambda x: x[1], reverse=True)\n",
    "    return scores[:n]"
   ]
  },
  {
   "cell_type": "code",
   "execution_count": 3,
   "metadata": {},
   "outputs": [],
   "source": [
    "# compute a forward pass through the skip-gram model\n",
    "# define one-hot encoding function\n",
    "def getOneHot(index, vocab_size):\n",
    "    onehot = np.zeros(vocab_size)\n",
    "    onehot[index] = 1\n",
    "    return onehot\n",
    "\n",
    "# define softmax function\n",
    "def softmax(x):\n",
    "    \"\"\"Compute softmax values for each sets of scores in x.\"\"\"\n",
    "    return np.exp(x) / np.sum(np.exp(x), axis=0)\n",
    "\n",
    "# define the forward pass function\n",
    "def net(V, U, target_word_idx, vocab):\n",
    "    target_hot = getOneHot(target_word_idx, len(vocab))\n",
    "    return softmax( U @ V @ target_hot )\n",
    "\n",
    "# define a function that predicts the top 5 most likely words given a target word\n",
    "def predict(word, V, U, vocab, inverse_vocab):\n",
    "    target_word_idx = vocab[word]\n",
    "    y_hat = net(V, U, target_word_idx, vocab)\n",
    "    top_5 = np.argsort(y_hat)[-5:][::-1]\n",
    "    top_5_words = [inverse_vocab[str(i)] for i in top_5]\n",
    "    return top_5_words"
   ]
  },
  {
   "cell_type": "code",
   "execution_count": 5,
   "metadata": {},
   "outputs": [
    {
     "name": "stdout",
     "output_type": "stream",
     "text": [
      "best_results shape: (100, 6)\n",
      "best_V shape: (300, 14119)\n",
      "best_U shape: (14119, 300)\n",
      "length of vocab_train: 14119\n",
      "length of inverse_vocab_train: 14119\n"
     ]
    }
   ],
   "source": [
    "# import all the necessary files\n",
    "import json\n",
    "with open('./data/processed_data/vocab_train.json') as f:\n",
    "    vocab_train = json.load(f)\n",
    "with open('./data/processed_data/inverse_vocab_train.json') as f:\n",
    "    inverse_vocab_train = json.load(f)\n",
    "with open('./data/processed_data/vocab_test.json') as f:\n",
    "    vocab_test = json.load(f)\n",
    "with open('./data/processed_data/inverse_vocab_test.json') as f:\n",
    "    inverse_vocab_test = json.load(f)\n",
    "\n",
    "# load all the results \n",
    "best_results = pd.read_csv('./results/sgns-partial/case6/results.csv')\n",
    "\n",
    "# load top embedding csv files\n",
    "best_V = pd.read_csv('./results/sgns-partial/case6/V_trained.csv', header=None)\n",
    "best_U = pd.read_csv('./results/sgns-partial/case6/U_trained.csv', header=None)\n",
    "\n",
    "best_V = best_V.to_numpy()\n",
    "best_U = best_U.to_numpy()\n",
    "\n",
    "# print shapes of results\n",
    "print(f'best_results shape: {best_results.shape}')\n",
    "\n",
    "# print shapes of embeddings\n",
    "print(f'best_V shape: {best_V.shape}')\n",
    "print(f'best_U shape: {best_U.shape}')\n",
    "\n",
    "# check length of vocab_train and inverse_vocab_train\n",
    "print(f'length of vocab_train: {len(vocab_train)}')\n",
    "print(f'length of inverse_vocab_train: {len(inverse_vocab_train)}')"
   ]
  },
  {
   "cell_type": "code",
   "execution_count": 6,
   "metadata": {},
   "outputs": [
    {
     "name": "stdout",
     "output_type": "stream",
     "text": [
      "Random words: ['goal’' 'trigger' 'russian' 'throne' 'devices']\n",
      "Random word: goal’\n",
      "Most similar words in case 6: [('shy', 0.8383249120696132)]\n",
      "Random word: trigger\n",
      "Most similar words in case 6: [('spacious', 0.8633764039750538)]\n",
      "Random word: russian\n",
      "Most similar words in case 6: [('hundred', 0.665118445237968)]\n",
      "Random word: throne\n",
      "Most similar words in case 6: [('motorcycle', 0.8335694344329274)]\n",
      "Random word: devices\n",
      "Most similar words in case 6: [('craves', 0.8042786101824639)]\n"
     ]
    }
   ],
   "source": [
    "# select n random words from the vocab list\n",
    "n = 5\n",
    "random_words = np.random.choice(list(vocab_train.keys()), n)\n",
    "print(f'Random words: {random_words}')\n",
    "\n",
    "# get the embedding vectors of the random words\n",
    "random_words_idx = [vocab_train[word] for word in random_words]\n",
    "\n",
    "# find the most similar word to the random words\n",
    "for i, word in enumerate(random_words):\n",
    "    print(f'Random word: {word}')\n",
    "    print(f'Most similar words in case 6: {most_similar_words(word, best_V, vocab_train, inverse_vocab_train, n=1)}')"
   ]
  },
  {
   "cell_type": "code",
   "execution_count": 7,
   "metadata": {},
   "outputs": [
    {
     "name": "stdout",
     "output_type": "stream",
     "text": [
      "Random word: goal’\n",
      "Top 5 words in case 6: ['he', 'said', 'chris', 'found', 'school']\n",
      "Random word: trigger\n",
      "Top 5 words in case 6: ['cent', 'per', 'school', 'boy', 'for']\n",
      "Random word: russian\n",
      "Top 5 words in case 6: ['the', 'school', 'boy', 'disease', 'killed']\n",
      "Random word: throne\n",
      "Top 5 words in case 6: ['school', 'cent', 'aden', 'disease', 'boy']\n",
      "Random word: devices\n",
      "Top 5 words in case 6: ['he', 'off', 'chris', 'school', 'boy']\n"
     ]
    }
   ],
   "source": [
    "# predict the top 5 words for the random words\n",
    "for i, word in enumerate(random_words):\n",
    "    print(f'Random word: {word}')\n",
    "    print(f'Top 5 words in case 6: {predict(word, best_V, best_U, vocab_train, inverse_vocab_train)}')"
   ]
  },
  {
   "cell_type": "code",
   "execution_count": 8,
   "metadata": {},
   "outputs": [],
   "source": [
    "target_words = ['sons', 'daughters']\n",
    "similar_words = ['boys', 'girls']"
   ]
  },
  {
   "cell_type": "code",
   "execution_count": 9,
   "metadata": {},
   "outputs": [],
   "source": [
    "# plot t-SNE\n",
    "tsne = TSNE(n_components=2, random_state=0)\n",
    "V_trained_tsne = tsne.fit_transform(best_V.T)\n",
    "\n",
    "target_indices = [vocab_train[word] for word in target_words]\n",
    "similar_indices = [vocab_train[word] for word in similar_words]\n",
    "V_trained_tsne_target_words = V_trained_tsne[target_indices]\n",
    "V_trained_tsne_similar_words = V_trained_tsne[similar_indices]"
   ]
  },
  {
   "cell_type": "code",
   "execution_count": 10,
   "metadata": {},
   "outputs": [
    {
     "data": {
      "image/png": "[encoded data removed]",
      "text/plain": [
       "<Figure size 500x500 with 1 Axes>"
      ]
     },
     "metadata": {},
     "output_type": "display_data"
    }
   ],
   "source": [
    "# plot the t-sne graph, labelling the data point with the words\n",
    "plt.figure(figsize=(5, 5))\n",
    "plt.scatter(V_trained_tsne_target_words[:, 0], V_trained_tsne_target_words[:, 1], color='blue')\n",
    "plt.scatter(V_trained_tsne_similar_words[:, 0], V_trained_tsne_similar_words[:, 1], color='red')\n",
    "\n",
    "# label the data points with its corresponding words slightly above each data point\n",
    "for i, word in enumerate(target_words):\n",
    "    x, y = V_trained_tsne_target_words[i]\n",
    "    plt.text(x, y+0.1, word, fontsize=9)\n",
    "\n",
    "    x, y = V_trained_tsne_similar_words[i]\n",
    "    plt.text(x, y+0.1, similar_words[i], fontsize=9)\n",
    "\n",
    "plt.show()"
   ]
  },
  {
   "cell_type": "code",
   "execution_count": 11,
   "metadata": {},
   "outputs": [],
   "source": [
    "# use PCA to reduce the dimensionality of the embeddings\n",
    "from sklearn.decomposition import PCA\n",
    "pca = PCA(n_components=2)\n",
    "V_trained_pca = pca.fit_transform(best_V.T)\n",
    "\n",
    "target_indices = [vocab_train[word] for word in target_words]\n",
    "similar_indices = [vocab_train[word] for word in similar_words]\n"
   ]
  },
  {
   "cell_type": "code",
   "execution_count": 12,
   "metadata": {},
   "outputs": [
    {
     "data": {
      "image/png": "[encoded data removed]",
      "text/plain": [
       "<Figure size 500x500 with 1 Axes>"
      ]
     },
     "metadata": {},
     "output_type": "display_data"
    }
   ],
   "source": [
    "# plot the pca graph, labelling the data point with the words\n",
    "plt.figure(figsize=(5, 5))\n",
    "plt.scatter(V_trained_pca[target_indices, 0], V_trained_pca[target_indices, 1], color='blue')\n",
    "plt.scatter(V_trained_pca[similar_indices, 0], V_trained_pca[similar_indices, 1], color='red')\n",
    "\n",
    "# label the data points with its corresponding words slightly above each data point\n",
    "for i, word in enumerate(target_words):\n",
    "    x, y = V_trained_pca[target_indices[i]]\n",
    "    plt.text(x, y+0.1, word, fontsize=9)\n",
    "\n",
    "    x, y = V_trained_pca[similar_indices[i]]\n",
    "    plt.text(x, y+0.1, similar_words[i], fontsize=9)"
   ]
  },
  {
   "cell_type": "code",
   "execution_count": null,
   "metadata": {},
   "outputs": [],
   "source": []
  }
 ],
 "metadata": {
  "kernelspec": {
   "display_name": ".venv",
   "language": "python",
   "name": "python3"
  },
  "language_info": {
   "codemirror_mode": {
    "name": "ipython",
    "version": 3
   },
   "file_extension": ".py",
   "mimetype": "text/x-python",
   "name": "python",
   "nbconvert_exporter": "python",
   "pygments_lexer": "ipython3",
   "version": "3.8.5"
  }
 },
 "nbformat": 4,
 "nbformat_minor": 2
}
